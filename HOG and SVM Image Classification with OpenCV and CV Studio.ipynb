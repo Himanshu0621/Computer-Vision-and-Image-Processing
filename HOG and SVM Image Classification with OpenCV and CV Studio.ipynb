{
 "cells": [
  {
   "cell_type": "markdown",
   "id": "3c1ca713-447c-4691-973b-dd10b8c86095",
   "metadata": {},
   "source": [
    "**H:O:G: and SVM Image Classification with OpenCV and CV Studio**"
   ]
  },
  {
   "cell_type": "markdown",
   "id": "6d1a0af3-f0d5-4726-aaf3-26e1e8c7bcbc",
   "metadata": {},
   "source": [
    "Prject: Training an image classifier with SVM"
   ]
  },
  {
   "cell_type": "markdown",
   "id": "58af60e6-18c5-4839-ad27-4206b1aeae84",
   "metadata": {},
   "source": [
    "We will learn how to train images with Support Vector Machines (SVM). SVM is a supervised learning model that analyze data used for classification and regression analysis. We will be using SVM for classify images."
   ]
  },
  {
   "cell_type": "markdown",
   "id": "17c78b32-d6b6-42ac-83b4-987cd95b8a2c",
   "metadata": {},
   "source": [
    "We will be classifying images using <code>Sklearn</code> and <a href=\"https://vision.skills.network/\"> Computer Vision Learning Studio (CV Studio)</a>. CV Studio is a fast, easy and collaborative open-source Computer Vision tool for teams and individuals. You can upload your datasets and label them yourself. If you created a separate folder for each image class, the tool will do the labeling for you. H.O.G. combined with SVM was one of the ways image classification was done before more advanced methods like Deep Learning became popular.\n"
   ]
  },
  {
   "cell_type": "markdown",
   "id": "bf13c119-c03d-42a5-8dcd-42f941819286",
   "metadata": {},
   "source": [
    "H.O.G = Histogram of Oriented Gradients "
   ]
  },
  {
   "cell_type": "markdown",
   "id": "9c4088e7-26dd-4cd8-a580-e7c9ddde6e78",
   "metadata": {},
   "source": [
    "<ul>\n",
    "    <li>This tool contains the following sections:\n",
    "        <ul>\n",
    "            <li>Import Libraries</li>\n",
    "            <li>Image Files and Paths  </li>\n",
    "            <li>Plotting an Image </li>\n",
    "            <li>H.O.G. as a feature descriptor </li>\n",
    "            <li>SVM for Image classification </li>\n",
    "            <li>Save your model to CVStudio</li>\n",
    "            <li>What's Next</li>\n",
    "        </ul>\n",
    "    </li>\n",
    "</ul>\n"
   ]
  },
  {
   "cell_type": "markdown",
   "id": "1b6d2b36-8292-437d-a800-dab6ba2c9777",
   "metadata": {},
   "source": [
    "----"
   ]
  },
  {
   "cell_type": "code",
   "execution_count": 2,
   "id": "6d8baff8-e804-46f4-9cd9-b7cdd4408df1",
   "metadata": {
    "tags": []
   },
   "outputs": [],
   "source": [
    "#Libraries for data processing and visualization:\n",
    "import numpy as np\n",
    "import pandas as pd\n",
    "import matplotlib.pyplot as plt\n",
    "from imutils import paths\n",
    "import seaborn as sns\n",
    "import random\n",
    "import time\n",
    "from datetime import datetime"
   ]
  },
  {
   "cell_type": "code",
   "execution_count": 3,
   "id": "24dff7a2-9bd8-47e4-8cf3-fc1f312bd919",
   "metadata": {
    "tags": []
   },
   "outputs": [
    {
     "name": "stdout",
     "output_type": "stream",
     "text": [
      "Requirement already satisfied: numpy in /home/jupyterlab/conda/envs/python/lib/python3.7/site-packages (1.21.6)\n",
      "Requirement already satisfied: scikit-learn in /home/jupyterlab/conda/envs/python/lib/python3.7/site-packages (0.20.1)\n",
      "Collecting scikit-learn\n",
      "  Downloading scikit_learn-1.0.2-cp37-cp37m-manylinux_2_17_x86_64.manylinux2014_x86_64.whl (24.8 MB)\n",
      "\u001b[2K     \u001b[90m━━━━━━━━━━━━━━━━━━━━━━━━━━━━━━━━━━━━━━━━\u001b[0m \u001b[32m24.8/24.8 MB\u001b[0m \u001b[31m52.1 MB/s\u001b[0m eta \u001b[36m0:00:00\u001b[0m00:01\u001b[0m00:01\u001b[0m\n",
      "\u001b[?25hRequirement already satisfied: scipy in /home/jupyterlab/conda/envs/python/lib/python3.7/site-packages (1.7.3)\n",
      "Collecting joblib>=0.11 (from scikit-learn)\n",
      "  Downloading joblib-1.3.2-py3-none-any.whl (302 kB)\n",
      "\u001b[2K     \u001b[90m━━━━━━━━━━━━━━━━━━━━━━━━━━━━━━━━━━━━━━\u001b[0m \u001b[32m302.2/302.2 kB\u001b[0m \u001b[31m41.5 MB/s\u001b[0m eta \u001b[36m0:00:00\u001b[0m\n",
      "\u001b[?25hCollecting threadpoolctl>=2.0.0 (from scikit-learn)\n",
      "  Downloading threadpoolctl-3.1.0-py3-none-any.whl (14 kB)\n",
      "Installing collected packages: threadpoolctl, joblib, scikit-learn\n",
      "  Attempting uninstall: scikit-learn\n",
      "    Found existing installation: scikit-learn 0.20.1\n",
      "    Uninstalling scikit-learn-0.20.1:\n",
      "      Successfully uninstalled scikit-learn-0.20.1\n",
      "Successfully installed joblib-1.3.2 scikit-learn-1.0.2 threadpoolctl-3.1.0\n",
      "Note: you may need to restart the kernel to use updated packages.\n"
     ]
    }
   ],
   "source": [
    "pip install --upgrade numpy scikit-learn scipy\n"
   ]
  },
  {
   "cell_type": "code",
   "execution_count": 4,
   "id": "d4a3abbe-81c3-41b0-b90c-e2919609cf72",
   "metadata": {
    "tags": []
   },
   "outputs": [
    {
     "name": "stdout",
     "output_type": "stream",
     "text": [
      "Name: numpy\n",
      "Version: 1.21.6\n",
      "Summary: NumPy is the fundamental package for array computing with Python.\n",
      "Home-page: https://www.numpy.org\n",
      "Author: Travis E. Oliphant et al.\n",
      "Author-email: \n",
      "License: BSD\n",
      "Location: /home/jupyterlab/conda/envs/python/lib/python3.7/site-packages\n",
      "Requires: \n",
      "Required-by: basemap, Bottleneck, folium, h5py, imagecodecs-lite, imageio, Keras, Keras-Applications, Keras-Preprocessing, matplotlib, numexpr, pandas, patsy, PyWavelets, scikit-image, scikit-learn, scipy, seaborn, statsmodels, systemml, tensorboard, tensorflow, tifffile, torchvision\n",
      "---\n",
      "Name: scikit-learn\n",
      "Version: 1.0.2\n",
      "Summary: A set of python modules for machine learning and data mining\n",
      "Home-page: http://scikit-learn.org\n",
      "Author: \n",
      "Author-email: \n",
      "License: new BSD\n",
      "Location: /home/jupyterlab/conda/envs/python/lib/python3.7/site-packages\n",
      "Requires: joblib, numpy, scipy, threadpoolctl\n",
      "Required-by: systemml\n",
      "---\n",
      "Name: scipy\n",
      "Version: 1.7.3\n",
      "Summary: SciPy: Scientific Library for Python\n",
      "Home-page: https://www.scipy.org\n",
      "Author: \n",
      "Author-email: \n",
      "License: BSD\n",
      "Location: /home/jupyterlab/conda/envs/python/lib/python3.7/site-packages\n",
      "Requires: numpy\n",
      "Required-by: Keras, scikit-image, scikit-learn, seaborn, statsmodels, systemml\n",
      "Note: you may need to restart the kernel to use updated packages.\n"
     ]
    }
   ],
   "source": [
    "pip show numpy scikit-learn scipy\n"
   ]
  },
  {
   "cell_type": "code",
   "execution_count": 5,
   "id": "00e297ec-fe79-4bc2-870e-a86800104fc2",
   "metadata": {
    "tags": []
   },
   "outputs": [],
   "source": [
    "#Libraries for image pre-processing and classification:\n",
    "import cv2\n",
    "import joblib\n",
    "from skimage.feature import hog\n",
    "from sklearn.metrics import accuracy_score\n",
    "from sklearn.preprocessing import StandardScaler\n",
    "from sklearn.svm import SVC\n",
    "from sklearn.metrics import confusion_matrix\n",
    "from sklearn.model_selection import GridSearchCV"
   ]
  },
  {
   "cell_type": "code",
   "execution_count": 6,
   "id": "8a92f860-8824-454a-b5e4-1fb13d8680ed",
   "metadata": {
    "tags": []
   },
   "outputs": [],
   "source": [
    "#Libraries for OS and Cloud:\n",
    "import os\n",
    "from skillsnetwork import cvstudio"
   ]
  },
  {
   "cell_type": "markdown",
   "id": "ebbff3af-b8ba-4a54-a000-2861ae87a437",
   "metadata": {},
   "source": [
    "We will load and process every image. Let's go over some concepts:\n",
    "\n",
    "<ul>\n",
    "        <ul>\n",
    "            <li><code>cv2.resize()</code> to resize the image </li>\n",
    "            <li><code>cv2.COLOR_BGR2GRAY()</code> will convert the images to greyscale image</li>\n",
    "            <li><code>hog()</code> will get the H.O.G. features from the image </li>\n",
    "        </ul>\n",
    "    \n",
    "</ul>\n",
    "\n",
    "We will use this function to read and preprocess the images"
   ]
  },
  {
   "cell_type": "code",
   "execution_count": 7,
   "id": "66bd4658-459e-438e-80ac-a7b9c677d890",
   "metadata": {
    "tags": []
   },
   "outputs": [],
   "source": [
    "def load_images(image_paths):\n",
    "    #Loop over the input images\n",
    "    for (i, image_path) in enumerate(image_paths):\n",
    "        #read image\n",
    "        image = cv2.imread(image_path)\n",
    "        image = np.array(image).astype('uint8')\n",
    "        image = cv2.resize(image,(64,64))\n",
    "        grey_image = cv2.cvtColor(image, cv2.COLOR_BGR2GRAY)\n",
    "        hog_features, hog_images = hog(grey_image,visualize=True,block_norm='L2-Hys',pixels_per_cell=(16,16))\n",
    "        #Label image using the annotations\n",
    "        label = class_object.index(annotations[\"annotations\"][image_path[7:]][0]['label'])\n",
    "        train_images.append(hog_features)\n",
    "        train_labels.append(label)\n",
    "        "
   ]
  },
  {
   "cell_type": "markdown",
   "id": "f738f62b-bbb9-4ac6-a3b8-7f78e91e7eed",
   "metadata": {},
   "source": [
    "image_path[7:]:\n",
    "\n",
    "Extracts a substring of the image_path, starting from the 7th character onward.\n",
    "This is typically done to remove a prefix like images/ or a similar path segment."
   ]
  },
  {
   "cell_type": "markdown",
   "id": "94fbf6d4-65ef-4b10-9f5f-9c1ebafe202d",
   "metadata": {},
   "source": [
    "**Downloading images and annotations**"
   ]
  },
  {
   "cell_type": "code",
   "execution_count": 8,
   "id": "2ac31e57-1b50-4bb1-bed7-3c92a3faa314",
   "metadata": {
    "tags": []
   },
   "outputs": [],
   "source": [
    "#Initializing the CV Studio Client\n",
    "cvstudioClient = cvstudio.CVStudio()\n",
    "\n",
    "#Downloading images\n",
    "#cvstudioClient.downloadAll()"
   ]
  },
  {
   "cell_type": "code",
   "execution_count": 9,
   "id": "257510b7-beab-4741-99a6-72b3e7ebfc4a",
   "metadata": {
    "tags": []
   },
   "outputs": [],
   "source": [
    "annotations = cvstudioClient.get_annotations()"
   ]
  },
  {
   "cell_type": "code",
   "execution_count": 10,
   "id": "cd7eb292-7806-4753-a1e6-2bf3c898d468",
   "metadata": {
    "tags": []
   },
   "outputs": [
    {
     "data": {
      "text/plain": [
       "{'4b79788c-e6b7-4146-a536-b4e3f86a379d.jpg': [{'label': 'cat'}],\n",
       " '78c1a280-3ec1-4533-ae91-5a3ebb4c636e.jpg': [{'label': 'dog'}],\n",
       " '7376989d-3ef8-4d54-a02d-8ee1ea48223f.jpg': [{'label': 'dog'}],\n",
       " '16b84f52-1793-4a50-af65-0f68b73beadc.jpg': [{'label': 'dog'}],\n",
       " 'ca317339-5942-4131-82c8-8495ac1c148a.jpg': [{'label': 'cat'}]}"
      ]
     },
     "execution_count": 10,
     "metadata": {},
     "output_type": "execute_result"
    }
   ],
   "source": [
    "#First 5 examples in annotations.\n",
    "first_five = {k: annotations[\"annotations\"][k] for k in list(annotations[\"annotations\"])[:5]}\n",
    "first_five"
   ]
  },
  {
   "cell_type": "markdown",
   "id": "0b1769e5-3d18-45cd-831e-5ec9709bc190",
   "metadata": {},
   "source": [
    "**Histogram of Oriented Gradients (H.O.G.)**"
   ]
  },
  {
   "cell_type": "markdown",
   "id": "64394a78-d54e-4aa7-acc9-42967aef856f",
   "metadata": {},
   "source": [
    "H.O.G. generates a histogram for each localized region. We will pick a random image and see how HOG works."
   ]
  },
  {
   "cell_type": "code",
   "execution_count": 11,
   "id": "9b74a786-140f-4759-8097-6d35639318e7",
   "metadata": {
    "tags": []
   },
   "outputs": [],
   "source": [
    "sample_image = 'images/' + random.choice(list(annotations[\"annotations\"].keys()))"
   ]
  },
  {
   "cell_type": "code",
   "execution_count": 12,
   "id": "6f486873-ac4d-4900-a256-41e8d8b197df",
   "metadata": {
    "tags": []
   },
   "outputs": [],
   "source": [
    "sample_image = cv2.imread(sample_image)\n",
    "sample_image = cv2.resize(sample_image, (64,64))\n",
    "sample_image = cv2.cvtColor(sample_image, cv2.COLOR_BGR2GRAY)"
   ]
  },
  {
   "cell_type": "code",
   "execution_count": 13,
   "id": "da905dd8-c3f3-47cd-a0d9-0a242b5c5f4f",
   "metadata": {
    "tags": []
   },
   "outputs": [
    {
     "data": {
      "text/plain": [
       "<matplotlib.image.AxesImage at 0x7fcfd60a5c10>"
      ]
     },
     "execution_count": 13,
     "metadata": {},
     "output_type": "execute_result"
    },
    {
     "data": {
      "image/png": "[encoded data removed]",
      "text/plain": [
       "<Figure size 640x480 with 1 Axes>"
      ]
     },
     "metadata": {},
     "output_type": "display_data"
    }
   ],
   "source": [
    "plt.imshow(sample_image, cmap=plt.cm.gray)"
   ]
  },
  {
   "cell_type": "markdown",
   "id": "fac92bcd-9fe1-40d5-ba2b-b7ae32c3bcca",
   "metadata": {},
   "source": [
    "Run HOG on the grayscale image to see what it looks like.\n",
    "HOG stands for Histogram of Oriented Gradients. It uses the gradient orientation of the localized regions of an image and generates a histogram for each localized region."
   ]
  },
  {
   "cell_type": "code",
   "execution_count": 14,
   "id": "af627f43-098b-468a-ad46-0d8a450b4ab8",
   "metadata": {
    "tags": []
   },
   "outputs": [
    {
     "data": {
      "text/plain": [
       "<matplotlib.image.AxesImage at 0x7fcfd603de10>"
      ]
     },
     "execution_count": 14,
     "metadata": {},
     "output_type": "execute_result"
    },
    {
     "data": {
      "image/png": "[encoded data removed]",
      "text/plain": [
       "<Figure size 640x480 with 1 Axes>"
      ]
     },
     "metadata": {},
     "output_type": "display_data"
    }
   ],
   "source": [
    "#Wen we run HOG, it returns an array of features and the image/output. The feature is what we need to train the SVM model.\n",
    "sample_image_features, sample_hog_image = hog(sample_image, visualize=True, block_norm='L2-Hys', pixels_per_cell=(16,16))\n",
    "plt.imshow(sample_hog_image, cmap=plt.cm.gray)\n",
    "#sample_hog_image: is just for visualization. "
   ]
  },
  {
   "cell_type": "markdown",
   "id": "686936f0-fda2-435c-a267-f077a6e40c9b",
   "metadata": {},
   "source": [
    "**load images and Generate Training/Testing Dataset**"
   ]
  },
  {
   "cell_type": "code",
   "execution_count": 15,
   "id": "38ccf562-777d-42e0-a770-1aa13e889f08",
   "metadata": {
    "tags": []
   },
   "outputs": [],
   "source": [
    "#Initiating a location for svaing loaded images:\n",
    "image_paths = list(paths.list_images('images'))\n",
    "train_images = []\n",
    "train_labels = []\n",
    "class_object = annotations['labels']"
   ]
  },
  {
   "cell_type": "code",
   "execution_count": 16,
   "id": "fedb93e9-3c72-4b6c-9c75-77b2a55490e4",
   "metadata": {
    "tags": []
   },
   "outputs": [],
   "source": [
    "load_images(image_paths)"
   ]
  },
  {
   "cell_type": "markdown",
   "id": "7334a389-3fa4-465c-a2ee-1c8a827d3846",
   "metadata": {},
   "source": [
    "Create an array of the images and use the 'np.vstack' to vertically stack arrays for wrangling."
   ]
  },
  {
   "cell_type": "code",
   "execution_count": 17,
   "id": "399052d5-12ca-4b82-9cf4-656dff8d0ab4",
   "metadata": {
    "tags": []
   },
   "outputs": [],
   "source": [
    "train_array = np.array(train_images)\n",
    "train_array = np.vstack(train_array)"
   ]
  },
  {
   "cell_type": "code",
   "execution_count": 18,
   "id": "d4d13479-254c-4510-93a6-ca7a286429cd",
   "metadata": {
    "tags": []
   },
   "outputs": [],
   "source": [
    "labels_array = np.array(train_labels)"
   ]
  },
  {
   "cell_type": "code",
   "execution_count": 19,
   "id": "b9940da5-1dd2-4264-8119-ae7c165a5a84",
   "metadata": {
    "tags": []
   },
   "outputs": [],
   "source": [
    "labels_array = labels_array.astype(int)\n",
    "labels_array = labels_array.reshape((labels_array.size,1))"
   ]
  },
  {
   "cell_type": "code",
   "execution_count": 20,
   "id": "86ece886-3d88-409c-965c-dacaa83136a4",
   "metadata": {
    "tags": []
   },
   "outputs": [],
   "source": [
    "#Conacatinating images and labels:\n",
    "concat_df = np.concatenate([train_array, labels_array], axis=1)"
   ]
  },
  {
   "cell_type": "code",
   "execution_count": 21,
   "id": "edd4f64e-8287-4ed6-81ff-afc7b88d13a0",
   "metadata": {
    "tags": []
   },
   "outputs": [],
   "source": [
    "#Dividing the data in to training and testset:\n",
    "percentage = 75\n",
    "partition = int(len(concat_df)*percentage/100)"
   ]
  },
  {
   "cell_type": "code",
   "execution_count": 22,
   "id": "11637a49-ae72-41a2-bb4a-62520957ab49",
   "metadata": {
    "tags": []
   },
   "outputs": [],
   "source": [
    "x_train, x_test = concat_df[:partition, :-1], concat_df[partition:, :-1]\n",
    "y_train, y_test = concat_df[:partition, -1:].ravel(), concat_df[partition:, -1:].ravel()\n"
   ]
  },
  {
   "cell_type": "markdown",
   "id": "bdca37fc-7c52-4988-b354-277e1cc0604c",
   "metadata": {},
   "source": [
    "**Hyperparameters**"
   ]
  },
  {
   "cell_type": "markdown",
   "id": "987ef2f7-2f4e-434b-9f27-2c58e4a1e2dd",
   "metadata": {},
   "source": [
    "The kernel type to be used is a hyperparameter. The most common kernels are <code>RBF</code>, <code>poly</code>, or <code>sigmoid</code>. You can also create your own kernel.\n",
    "\n",
    "<code>C</code> behaves as a regularization parameter in the SVM. The <code>C</code> parameter trades off correct classification of the training examples against the maximization of the decision function’s margin. For larger values of <code>C</code>, a smaller margin will be accepted if the decision function is better at classifying all training points correctly. A lower <code>C</code> will encourage a larger margin, therefore a simpler decision function at the cost of accuracy. We select C and the best kernel by using the validation data. \n"
   ]
  },
  {
   "cell_type": "markdown",
   "id": "9cd7ce99-c4d9-44f5-a33e-267ec10f1e69",
   "metadata": {},
   "source": [
    "The  python dictionary <code>param_grid</code>  has different kernels and values of C. We can test them using the validation data.\n"
   ]
  },
  {
   "cell_type": "code",
   "execution_count": 23,
   "id": "29217583-ec84-41dc-9bb5-eb6082ba47a2",
   "metadata": {
    "tags": []
   },
   "outputs": [],
   "source": [
    "param_grid = {'kernel': ('linear','rbf'),'C':[1,4,5,10]}"
   ]
  },
  {
   "cell_type": "markdown",
   "id": "41b7868d-ab06-4d15-ab22-535cc276fed8",
   "metadata": {},
   "source": [
    "<code>gamma</code> is a parameter of the RBF kernel and can be thought of as the spread of the kernel and, therefore, the decision region. Low values mean ‘far’ and high values mean ‘close’. The behaviour of the model is very sensitive to the gamma parameter. If gamma is too large, the radius of the area of influence of the support vectors only includes the support vector itself. We create a Support Vector Classification object.\n"
   ]
  },
  {
   "cell_type": "markdown",
   "id": "7821f2fe-64d3-4147-bc31-93ebc20d3eec",
   "metadata": {},
   "source": [
    "**Support Vector Machines**"
   ]
  },
  {
   "cell_type": "code",
   "execution_count": 24,
   "id": "d86ed484-dd4b-41f7-9d7f-05b93a158b8b",
   "metadata": {
    "tags": []
   },
   "outputs": [],
   "source": [
    "base_estimator = SVC(gamma='scale')"
   ]
  },
  {
   "cell_type": "markdown",
   "id": "97f52f4d-f623-4612-a849-3b4785d0da42",
   "metadata": {},
   "source": [
    "We will train the model and try different kernels and parameter values using the function 'GridSearchCV'. The resulting output will be the model that performs best on the validation data."
   ]
  },
  {
   "cell_type": "code",
   "execution_count": 25,
   "id": "82a9b27c-8c0b-4d32-9107-816fc167f11a",
   "metadata": {
    "tags": []
   },
   "outputs": [
    {
     "name": "stdout",
     "output_type": "stream",
     "text": [
      "{'C': 1, 'kernel': 'linear'}\n",
      "Accuracy: 0.62\n",
      "0.40605711936950684\n"
     ]
    }
   ],
   "source": [
    "start_datetime = datetime.now()\n",
    "start = time.time()\n",
    "\n",
    "svm = GridSearchCV(base_estimator, param_grid, cv=5)\n",
    "#Fitting the data into the classifier\n",
    "svm.fit(x_train, y_train)\n",
    "#Get values of the grid search\n",
    "best_parameters = svm.best_params_\n",
    "print(best_parameters)\n",
    "y_pred = svm.predict(x_test)\n",
    "#Accuracy score for the model on validation set.\n",
    "print(\"Accuracy: \"+str(accuracy_score(y_test, y_pred)))\n",
    "\n",
    "end = time.time()\n",
    "end_datetime = datetime.now()\n",
    "print(end -start)"
   ]
  },
  {
   "cell_type": "markdown",
   "id": "ef95f811-f649-4971-a993-77e08e1d9481",
   "metadata": {},
   "source": [
    "Get confusion Matrix for SVM results:"
   ]
  },
  {
   "cell_type": "code",
   "execution_count": 26,
   "id": "88802e13-ca80-426d-b236-a179fb95125e",
   "metadata": {
    "tags": []
   },
   "outputs": [],
   "source": [
    "label_names = [0,1]\n",
    "cmx = confusion_matrix(y_test, y_pred, labels = label_names)"
   ]
  },
  {
   "cell_type": "code",
   "execution_count": 28,
   "id": "a168c0ca-e012-4a60-aba4-667e05098126",
   "metadata": {
    "tags": []
   },
   "outputs": [
    {
     "data": {
      "image/png": "[encoded data removed]",
      "text/plain": [
       "<Figure size 600x400 with 2 Axes>"
      ]
     },
     "metadata": {},
     "output_type": "display_data"
    }
   ],
   "source": [
    "df_cm = pd.DataFrame(cmx)\n",
    "plt.figure(figsize=(6,4))\n",
    "sns.set(font_scale=1.4)\n",
    "sns.heatmap(df_cm,annot=True,annot_kws={\"size\":16})\n",
    "title = \"Confusion Matrix for SVM results\"\n",
    "plt.title(title)\n",
    "plt.show()"
   ]
  },
  {
   "cell_type": "markdown",
   "id": "4c9ebaea-ce0d-4d69-bf05-8c1afd3954b2",
   "metadata": {},
   "source": [
    "**Reporting back our results to CV Studio**"
   ]
  },
  {
   "cell_type": "code",
   "execution_count": 29,
   "id": "b5f18dae-c0cb-4757-a1b6-060025a90212",
   "metadata": {
    "tags": []
   },
   "outputs": [
    {
     "name": "stdout",
     "output_type": "stream",
     "text": [
      "Congratulations your results have been reported back to CV Studio\n"
     ]
    }
   ],
   "source": [
    "parameters = {'best_params': best_parameters}\n",
    "result = cvstudioClient.report(started=start_datetime, completed=end_datetime, parameters=parameters, accuracy=accuracy_score(y_test,y_pred))\n",
    "if result.ok:\n",
    "    print('Congratulations your results have been reported back to CV Studio')"
   ]
  },
  {
   "cell_type": "code",
   "execution_count": 31,
   "id": "a6dd724a-fa06-49c0-84f7-20528411fc25",
   "metadata": {
    "tags": []
   },
   "outputs": [
    {
     "data": {
      "text/plain": [
       "['svm.joblib']"
      ]
     },
     "execution_count": 31,
     "metadata": {},
     "output_type": "execute_result"
    }
   ],
   "source": [
    "#Save the SVM model to a file\n",
    "joblib.dump(svm.best_estimator_, 'svm.joblib')"
   ]
  },
  {
   "cell_type": "code",
   "execution_count": 32,
   "id": "9ac8a8b6-7278-43c3-b838-500cab0ff720",
   "metadata": {
    "tags": []
   },
   "outputs": [
    {
     "name": "stdout",
     "output_type": "stream",
     "text": [
      "File Uploaded\n"
     ]
    }
   ],
   "source": [
    "#Saving the model back to CV Studio\n",
    "result = cvstudioClient.uploadModel('svm.joblib',{'svm_best':svm.best_estimator_})"
   ]
  },
  {
   "cell_type": "code",
   "execution_count": null,
   "id": "1d862c30-09db-4a06-835f-f5de225b8dba",
   "metadata": {},
   "outputs": [],
   "source": []
  }
 ],
 "metadata": {
  "kernelspec": {
   "display_name": "Python 3 (ipykernel)",
   "language": "python",
   "name": "python3"
  },
  "language_info": {
   "codemirror_mode": {
    "name": "ipython",
    "version": 3
   },
   "file_extension": ".py",
   "mimetype": "text/x-python",
   "name": "python",
   "nbconvert_exporter": "python",
   "pygments_lexer": "ipython3",
   "version": "3.9.7"
  }
 },
 "nbformat": 4,
 "nbformat_minor": 5
}
