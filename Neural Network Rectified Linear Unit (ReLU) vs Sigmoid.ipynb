{
 "cells": [
  {
   "cell_type": "markdown",
   "id": "c9697d21",
   "metadata": {},
   "source": [
    "<h1>Neural Network Rectified Linear Unit (ReLU) vs Sigmoid</h1>"
   ]
  },
  {
   "cell_type": "markdown",
   "id": "3619b558",
   "metadata": {},
   "source": [
    "1. Define Several Neural Network, Criterion function, Optimizer.\n",
    "2. Test Sigmoid and Relu.\n",
    "3. Analyze Results."
   ]
  },
  {
   "cell_type": "code",
   "execution_count": 1,
   "id": "f59c741e",
   "metadata": {},
   "outputs": [
    {
     "name": "stdout",
     "output_type": "stream",
     "text": [
      "Requirement already satisfied: torch in c:\\users\\tripa\\anaconda3\\lib\\site-packages (1.13.1)\n",
      "Requirement already satisfied: torchvision in c:\\users\\tripa\\anaconda3\\lib\\site-packages (0.14.1)\n",
      "Requirement already satisfied: torchaudio in c:\\users\\tripa\\anaconda3\\lib\\site-packages (0.13.1)\n",
      "Requirement already satisfied: typing_extensions in c:\\users\\tripa\\anaconda3\\lib\\site-packages (from torch) (4.7.1)\n",
      "Requirement already satisfied: numpy in c:\\users\\tripa\\anaconda3\\lib\\site-packages (from torchvision) (1.20.3)\n",
      "Requirement already satisfied: requests in c:\\users\\tripa\\anaconda3\\lib\\site-packages (from torchvision) (2.32.2)\n",
      "Requirement already satisfied: pillow!=8.3.*,>=5.3.0 in c:\\users\\tripa\\anaconda3\\lib\\site-packages (from torchvision) (8.4.0)\n",
      "Requirement already satisfied: idna<4,>=2.5 in c:\\users\\tripa\\anaconda3\\lib\\site-packages (from requests->torchvision) (3.2)\n",
      "Requirement already satisfied: urllib3<3,>=1.21.1 in c:\\users\\tripa\\anaconda3\\lib\\site-packages (from requests->torchvision) (2.3.0)\n",
      "Requirement already satisfied: certifi>=2017.4.17 in c:\\users\\tripa\\anaconda3\\lib\\site-packages (from requests->torchvision) (2021.10.8)\n",
      "Requirement already satisfied: charset-normalizer<4,>=2 in c:\\users\\tripa\\anaconda3\\lib\\site-packages (from requests->torchvision) (2.0.4)\n"
     ]
    }
   ],
   "source": [
    "!pip3 install torch torchvision torchaudio"
   ]
  },
  {
   "cell_type": "code",
   "execution_count": 2,
   "id": "72aa7780",
   "metadata": {},
   "outputs": [
    {
     "name": "stdout",
     "output_type": "stream",
     "text": [
      "Collecting package metadata (current_repodata.json): ...working... done\n",
      "Solving environment: ...working... done\n",
      "\n",
      "# All requested packages already installed.\n",
      "\n"
     ]
    }
   ],
   "source": [
    "!conda install -y torchvision"
   ]
  },
  {
   "cell_type": "code",
   "execution_count": 3,
   "id": "d0ee2067",
   "metadata": {},
   "outputs": [
    {
     "data": {
      "text/plain": [
       "<torch._C.Generator at 0x2d1ab963790>"
      ]
     },
     "execution_count": 3,
     "metadata": {},
     "output_type": "execute_result"
    }
   ],
   "source": [
    "import torch\n",
    "import torch.nn as nn\n",
    "import torchvision.transforms as transforms\n",
    "import torchvision.datasets as dsets\n",
    "import torch.nn.functional as F\n",
    "import matplotlib.pylab as plt\n",
    "import numpy as np\n",
    "#Setting the seed will allow us to control randomness and give us reproducibility\n",
    "torch.manual_seed(2)\n"
   ]
  },
  {
   "cell_type": "markdown",
   "id": "5d98440f",
   "metadata": {},
   "source": [
    "Defining neural network modele/class with 2 hidden layer. Using Sigmoid as the activation function."
   ]
  },
  {
   "cell_type": "code",
   "execution_count": 4,
   "id": "72417421",
   "metadata": {},
   "outputs": [],
   "source": [
    "class NN(nn.Module):\n",
    "    #Constructor\n",
    "    def __init__(self, D_in, H1, H2, D_out):\n",
    "        super(NN, self).__init__()\n",
    "        self.linear1 = nn.Linear(D_in, H1)\n",
    "        self.linear2 = nn.Linear(H1, H2)\n",
    "        self.linear3 = nn.Linear(H2, D_out)\n",
    "    #prediction\n",
    "    def forward(self, x):\n",
    "        x = torch.sigmoid(self.linear1(x))\n",
    "        x = torch.sigmoid(self.linear2(x))\n",
    "        x = self.linear3(x)\n",
    "        return x"
   ]
  },
  {
   "cell_type": "markdown",
   "id": "9739ab12",
   "metadata": {},
   "source": [
    "Using ReLU as the activation function:\n"
   ]
  },
  {
   "cell_type": "code",
   "execution_count": 5,
   "id": "fd87e55f",
   "metadata": {},
   "outputs": [],
   "source": [
    "class NetRelu(nn.Module):\n",
    "    #Constructor\n",
    "    def __init__(self, D_in, H1, H2, D_out):\n",
    "        super(NetRelu, self).__init__()\n",
    "        self.linear1 = nn.Linear(D_in, H1)\n",
    "        self.linear2 = nn.Linear(H1, H2)\n",
    "        self.linear3 = nn.Linear(H2, D_out)\n",
    "    #prediction\n",
    "    def forward(self, x):\n",
    "        x = F.relu(self.linear1(x))\n",
    "        x = F.relu(self.linear2(x))\n",
    "        x = self.linear3(x)\n",
    "        return x"
   ]
  },
  {
   "cell_type": "markdown",
   "id": "17fcadcd",
   "metadata": {},
   "source": [
    "Defining a function to train the model, in this case, the function returns a Python dictionary to store the training loss and accuracy on the validation data"
   ]
  },
  {
   "cell_type": "code",
   "execution_count": 6,
   "id": "317eb89c",
   "metadata": {},
   "outputs": [],
   "source": [
    "#Model training function\n",
    "\n",
    "def train(model, criterion, train_loader, validation_loader, validation_dataset, optimizer, epochs=120):\n",
    "    useful_stuff = {'training_loss': [], 'validation_accuracy': []}\n",
    "    for epoch in range(epochs):\n",
    "        #For each batch in the training loader\n",
    "        for i,  (x,y) in enumerate(train_loader):\n",
    "            optimizer.zero_grad()\n",
    "            #Makes a prediction on the image tensor by flattening it to a 1 by 28*28 tensor\n",
    "            yhat = model(x.view(-1, 28*28))\n",
    "            loss = criterion(yhat, y)\n",
    "            #calculate the gradient value w.r.t. each weight and bias\n",
    "            loss.backward()\n",
    "            optimizer.step()\n",
    "            #Saving the loss\n",
    "            useful_stuff['training_loss'].append(loss.data.item())\n",
    "            \n",
    "          #Keeping track of correct predictions\n",
    "        correct = 0\n",
    "        #For each batch in the validation dataset\n",
    "        for x, y in validation_loader:\n",
    "            yhat = model(x.view(-1,28*28))\n",
    "            #Get the class that have maximum value\n",
    "            _, label = torch.max(yhat, 1)\n",
    "            #Check\n",
    "            correct += (label == y).sum().item()\n",
    "            \n",
    "        #Saving the accuracy in percentage\n",
    "        accuracy = 100*(correct/len(validation_dataset))\n",
    "        useful_stuff['validation_accuracy'].append(accuracy)\n",
    "        \n",
    "    return useful_stuff\n",
    "            "
   ]
  },
  {
   "cell_type": "markdown",
   "id": "1bb757ba",
   "metadata": {},
   "source": [
    "**Making Some Data**"
   ]
  },
  {
   "cell_type": "markdown",
   "id": "2148fd08",
   "metadata": {},
   "source": [
    "Load the training dataset by setting the parameters <code>train</code> to <code>True</code> and convert it to a tensor  by placing a transform object int the argument <code>transform</code>\n"
   ]
  },
  {
   "cell_type": "code",
   "execution_count": 7,
   "id": "62c3c445",
   "metadata": {},
   "outputs": [],
   "source": [
    "# Create the training dataset\n",
    "\n",
    "train_dataset = dsets.MNIST(root='./data', train=True, download=True, transform=transforms.ToTensor())"
   ]
  },
  {
   "cell_type": "markdown",
   "id": "ab40dde4",
   "metadata": {},
   "source": [
    "Load the testing dataset by setting the parameters <code>train</code> to <code>False</code> and convert it to a tensor  by placing a transform object int the argument <code>transform</code>\n"
   ]
  },
  {
   "cell_type": "code",
   "execution_count": 8,
   "id": "33d0910c",
   "metadata": {},
   "outputs": [],
   "source": [
    "# Create the validating dataset\n",
    "\n",
    "validation_dataset = dsets.MNIST(root='./data', train=False, download=True, transform=transforms.ToTensor())"
   ]
  },
  {
   "cell_type": "markdown",
   "id": "0b15603f",
   "metadata": {},
   "source": [
    "Create the criterion function  \n"
   ]
  },
  {
   "cell_type": "code",
   "execution_count": 9,
   "id": "edfa7208",
   "metadata": {},
   "outputs": [],
   "source": [
    "# Create the criterion function\n",
    "\n",
    "criterion = nn.CrossEntropyLoss()  #Moste important concept of the code!"
   ]
  },
  {
   "cell_type": "markdown",
   "id": "7d737396",
   "metadata": {},
   "source": [
    "Create the training-data loader and the validation-data loader object \n"
   ]
  },
  {
   "cell_type": "code",
   "execution_count": 10,
   "id": "8777bc28",
   "metadata": {},
   "outputs": [],
   "source": [
    "# Create the training data loader and validation data loader object\n",
    "\n",
    "# Batch size is 2000 and shuffle=True means the data will be shuffled at every epoch\n",
    "train_loader = torch.utils.data.DataLoader(dataset=train_dataset, batch_size=2000, shuffle=True)\n",
    "# Batch size is 5000 and the data will not be shuffled at every epoch\n",
    "validation_loader = torch.utils.data.DataLoader(dataset=validation_dataset, batch_size=5000, shuffle=False)"
   ]
  },
  {
   "cell_type": "markdown",
   "id": "1aae20d3",
   "metadata": {},
   "source": [
    "**Define Neural Network, Criterion Function, Optimizer and Train the Model**"
   ]
  },
  {
   "cell_type": "code",
   "execution_count": 11,
   "id": "84ed46e1",
   "metadata": {},
   "outputs": [],
   "source": [
    "#Setting the parameters to create the model\n",
    "D_in = 28*28 #Dimension of an image\n",
    "H1 = 50\n",
    "H2 = 50\n",
    "D_out =10 #Number of classes"
   ]
  },
  {
   "cell_type": "code",
   "execution_count": 12,
   "id": "f8a5cf2c",
   "metadata": {},
   "outputs": [],
   "source": [
    "#Setting the number of iterations\n",
    "use_epochs = 10"
   ]
  },
  {
   "cell_type": "markdown",
   "id": "c12b5cc9",
   "metadata": {},
   "source": [
    "**Test Sigmoid and ReLU**"
   ]
  },
  {
   "cell_type": "code",
   "execution_count": 13,
   "id": "c2678b1c",
   "metadata": {},
   "outputs": [],
   "source": [
    "#Training the network using Sigmoid activation function\n",
    "learning_rate = 0.01\n",
    "model = NN(D_in, H1, H2, D_out)\n",
    "optimizer = torch.optim.SGD(model.parameters(), lr=learning_rate)\n",
    "training_results = train(model, criterion, train_loader, validation_loader, validation_dataset, optimizer, epochs=use_epochs)"
   ]
  },
  {
   "cell_type": "code",
   "execution_count": 15,
   "id": "d360a38e",
   "metadata": {},
   "outputs": [],
   "source": [
    "#Train the model with ReLU function\n",
    "learning_rate = 0.01\n",
    "modelRelu = NetRelu(D_in, H1, H2, D_out)\n",
    "optimizer = torch.optim.SGD(modelRelu.parameters(), lr=learning_rate)\n",
    "training_result_Relu = train(model, criterion, train_loader, validation_loader, validation_dataset, optimizer, epochs=use_epochs)"
   ]
  },
  {
   "cell_type": "markdown",
   "id": "85d3632b",
   "metadata": {},
   "source": [
    "**Analyze Results**"
   ]
  },
  {
   "cell_type": "markdown",
   "id": "58b9da81",
   "metadata": {},
   "source": [
    "Comparing the training loss for each activation"
   ]
  },
  {
   "cell_type": "code",
   "execution_count": 16,
   "id": "9545f5f5",
   "metadata": {},
   "outputs": [
    {
     "data": {
      "text/plain": [
       "<matplotlib.legend.Legend at 0x2d1c689b370>"
      ]
     },
     "execution_count": 16,
     "metadata": {},
     "output_type": "execute_result"
    },
    {
     "data": {
      "image/png": "[encoded data removed]",
      "text/plain": [
       "<Figure size 432x288 with 1 Axes>"
      ]
     },
     "metadata": {
      "needs_background": "light"
     },
     "output_type": "display_data"
    }
   ],
   "source": [
    "plt.plot(training_results['training_loss'], label='Sigmoid')\n",
    "plt.plot(training_result_Relu['training_loss'], label='ReLU')\n",
    "plt.ylabel('loss')\n",
    "plt.title('training loss iterations')\n",
    "plt.legend()"
   ]
  },
  {
   "cell_type": "code",
   "execution_count": 17,
   "id": "fffe3d27",
   "metadata": {},
   "outputs": [
    {
     "data": {
      "text/plain": [
       "<matplotlib.legend.Legend at 0x2d1c6903430>"
      ]
     },
     "execution_count": 17,
     "metadata": {},
     "output_type": "execute_result"
    },
    {
     "data": {
      "image/png": "[encoded data removed]",
      "text/plain": [
       "<Figure size 432x288 with 1 Axes>"
      ]
     },
     "metadata": {
      "needs_background": "light"
     },
     "output_type": "display_data"
    }
   ],
   "source": [
    "# Compare the validation loss\n",
    "\n",
    "plt.plot(training_results['validation_accuracy'], label = 'sigmoid')\n",
    "plt.plot(training_result_Relu['validation_accuracy'], label = 'relu') \n",
    "plt.ylabel('validation accuracy')\n",
    "plt.xlabel('Iteration')   \n",
    "plt.legend()"
   ]
  }
 ],
 "metadata": {
  "kernelspec": {
   "display_name": "Python 3 (ipykernel)",
   "language": "python",
   "name": "python3"
  },
  "language_info": {
   "codemirror_mode": {
    "name": "ipython",
    "version": 3
   },
   "file_extension": ".py",
   "mimetype": "text/x-python",
   "name": "python",
   "nbconvert_exporter": "python",
   "pygments_lexer": "ipython3",
   "version": "3.9.7"
  }
 },
 "nbformat": 4,
 "nbformat_minor": 5
}
