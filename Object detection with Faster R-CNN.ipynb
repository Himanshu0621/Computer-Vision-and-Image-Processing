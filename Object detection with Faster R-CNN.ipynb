{
 "cells": [
  {
   "cell_type": "code",
   "execution_count": 1,
   "id": "59caa44d",
   "metadata": {},
   "outputs": [
    {
     "name": "stdout",
     "output_type": "stream",
     "text": [
      "Downloaded: DLguys.jpeg\n",
      "Downloaded: watts_photos2758112663727581126637_b5d4d192d4_b.jpeg\n",
      "Downloaded: istockphoto-187786732-612x612.jpeg\n",
      "Downloaded: jeff_hinton.png\n"
     ]
    }
   ],
   "source": [
    "import urllib.request\n",
    "\n",
    "urls = [\n",
    "    \"https://cf-courses-data.s3.us.cloud-object-storage.appdomain.cloud/IBMDeveloperSkillsNetwork-CV0101EN-Coursera/images%20/images_part_5/DLguys.jpeg\",\n",
    "    \"https://cf-courses-data.s3.us.cloud-object-storage.appdomain.cloud/IBMDeveloperSkillsNetwork-CV0101EN-Coursera/images%20/images_part_5/watts_photos2758112663727581126637_b5d4d192d4_b.jpeg\",\n",
    "    \"https://cf-courses-data.s3.us.cloud-object-storage.appdomain.cloud/IBMDeveloperSkillsNetwork-CV0101EN-Coursera/images%20/images_part_5/istockphoto-187786732-612x612.jpeg\",\n",
    "    \"https://cf-courses-data.s3.us.cloud-object-storage.appdomain.cloud/IBMDeveloperSkillsNetwork-CV0101EN-Coursera/images%20/images_part_5/jeff_hinton.png\"\n",
    "]\n",
    "\n",
    "for url in urls:\n",
    "    filename = url.split(\"/\")[-1]  # Extract the filename from the URL\n",
    "    urllib.request.urlretrieve(url, filename)\n",
    "    print(f\"Downloaded: {filename}\")\n"
   ]
  },
  {
   "cell_type": "code",
   "execution_count": 2,
   "id": "3f9b231f",
   "metadata": {},
   "outputs": [],
   "source": [
    "#Deep learning libraries:\n",
    "import torchvision\n",
    "from torchvision import transforms\n",
    "import torch\n",
    "from torch.autograd import no_grad"
   ]
  },
  {
   "cell_type": "code",
   "execution_count": 3,
   "id": "cd7a6e8b",
   "metadata": {},
   "outputs": [],
   "source": [
    "import requests #Getting data from web"
   ]
  },
  {
   "cell_type": "code",
   "execution_count": 4,
   "id": "48dacc5a",
   "metadata": {},
   "outputs": [],
   "source": [
    "import cv2\n",
    "import numpy as np\n",
    "from PIL import Image\n",
    "import matplotlib.pyplot as plt"
   ]
  },
  {
   "cell_type": "markdown",
   "id": "982e9c44",
   "metadata": {},
   "source": [
    " The following function will assign a string name to a predicted class and eliminates predictions whose likelihood is under a treshold."
   ]
  },
  {
   "cell_type": "code",
   "execution_count": 5,
   "id": "4ca93ce5",
   "metadata": {},
   "outputs": [],
   "source": [
    "def get_predictions(pred, threshold=0.7, objects=None):\n",
    "    \n",
    "#Pred: A list where each element contains a tuple that corresponds to information about the different objects; Each element  includes a tuple with the class yhat, probability of belonging to the class and the coordinates of the bounding box corresponding to the object.\n",
    "#Image: frozen surface\n",
    "#Predicted_classes: A list where each elemnt contains a tuple that corresponds to information about the different objects: Each elemnet includes a tuple with the class name, probability of belonging to that class and the coordinates of the bounding boxcorresponding to the object.\n",
    "#p: Confidence.\n",
    "#(box[0], box[1]) → Top-left corner (x, y)\n",
    "#(box[2], box[3]) → Bottom-right corner (x, y)\n",
    "    predicted_classes = [\n",
    "    (COCO_INSTANCE_CATEGORY_NAMES[i], p, [(box[0], box[1]), (box[2], box[3])]) \n",
    "    for i, p, box in zip(\n",
    "        pred[0]['labels'].numpy(), \n",
    "        pred[0]['scores'].detach().numpy(), \n",
    "        pred[0]['boxes'].detach().numpy())]\n",
    "\n",
    "    predicted_classes = [stuff for stuff in predicted_classes if stuff[1]>threshold]\n",
    "                          \n",
    "    if objects and predicted_classes:\n",
    "        predicted_classes = [(name,p,box) for name, p, box in predicted_classes if name in objects]\n",
    "    return predicted_classes"
   ]
  },
  {
   "cell_type": "markdown",
   "id": "5f85b5fb",
   "metadata": {},
   "source": [
    "Draw box arround each object"
   ]
  },
  {
   "cell_type": "code",
   "execution_count": 6,
   "id": "945bbf3a",
   "metadata": {},
   "outputs": [],
   "source": [
    "def draw_box(predicted_classes, image, rect_th=10, text_size=3, text_th=3):\n",
    "    \"\"\"\n",
    "    Draws a box around each object.\n",
    "    \n",
    "    predicted_classes: a list where each element contains a tuple that corresponds to information about the different objects;\n",
    "                       each element includes a tuple with the class name, probability of belonging to that class, and the coordinates of the bounding box corresponding to the object.\n",
    "    image: frozen surface\n",
    "    \"\"\"\n",
    "    \n",
    "    # Convert image from tensor to numpy array\n",
    "    img = (np.clip(cv2.cvtColor(np.clip(image.numpy().transpose((1, 2, 0)), 0, 1), cv2.COLOR_RGB2BGR) * 255, 0, 255)).astype(np.uint8).copy()\n",
    "\n",
    "    # Loop over predicted classes and draw boxes and labels\n",
    "    for predicted_class in predicted_classes:\n",
    "        label = predicted_class[0]\n",
    "        probability = predicted_class[1]\n",
    "        box = predicted_class[2]\n",
    "\n",
    "        # Draw rectangle around object\n",
    "        cv2.rectangle(img, box[0], box[1], (0, 255, 0), rect_th)  # Draw rectangle with the coordinates\n",
    "\n",
    "        # Put label and probability text on the image\n",
    "        cv2.putText(img, label, box[0], cv2.FONT_HERSHEY_SIMPLEX, text_size, (0, 255, 0), thickness=text_th)\n",
    "        cv2.putText(img, label + \": \" + str(round(probability, 2)), box[0], cv2.FONT_HERSHEY_SIMPLEX, text_size, (0, 255, 0), thickness=text_th)\n",
    "\n",
    "    # Show the image\n",
    "    plt.imshow(cv2.cvtColor(img, cv2.COLOR_BGR2RGB))\n",
    "\n",
    "    # Clean up memory\n",
    "    del img\n",
    "    del image\n"
   ]
  },
  {
   "cell_type": "markdown",
   "id": "9eb6771a",
   "metadata": {},
   "source": [
    "Function to free up some memory:"
   ]
  },
  {
   "cell_type": "code",
   "execution_count": 7,
   "id": "9b469c21",
   "metadata": {},
   "outputs": [],
   "source": [
    "def save_RAM(image_=False):\n",
    "    global image, img, pred\n",
    "    torch.cuda.empty_cache()\n",
    "    del(img)\n",
    "    del(pred)\n",
    "    if image_:\n",
    "        image.close()\n",
    "        del(image)"
   ]
  },
  {
   "cell_type": "markdown",
   "id": "253745ab",
   "metadata": {},
   "source": [
    "*Load Pre-trained Faster R-CNN*"
   ]
  },
  {
   "cell_type": "markdown",
   "id": "c1174a1e",
   "metadata": {},
   "source": [
    "Faster R-CNN is a model taht predicts both bounding boxes and class scores for potential objects in the image pre-trained on COCO."
   ]
  },
  {
   "cell_type": "markdown",
   "id": "94e42577",
   "metadata": {},
   "source": [
    "model_=torchvision.models.detection.fasterrcnn_resnet50_fpn(pretrained=True)\n",
    "model_.eval()#Puts the model in evaluation mode (as opposed to training the mode)\n",
    "\n",
    "for name, param in model_.named_parameters():\n",
    "    param.requires_grad=False\n",
    "print(\"done\")"
   ]
  },
  {
   "cell_type": "code",
   "execution_count": 8,
   "id": "4d9e74fd",
   "metadata": {},
   "outputs": [
    {
     "data": {
      "text/plain": [
       "FasterRCNN(\n",
       "  (transform): GeneralizedRCNNTransform(\n",
       "      Normalize(mean=[0.485, 0.456, 0.406], std=[0.229, 0.224, 0.225])\n",
       "      Resize(min_size=(800,), max_size=1333, mode='bilinear')\n",
       "  )\n",
       "  (backbone): BackboneWithFPN(\n",
       "    (body): IntermediateLayerGetter(\n",
       "      (conv1): Conv2d(3, 64, kernel_size=(7, 7), stride=(2, 2), padding=(3, 3), bias=False)\n",
       "      (bn1): FrozenBatchNorm2d(64, eps=0.0)\n",
       "      (relu): ReLU(inplace=True)\n",
       "      (maxpool): MaxPool2d(kernel_size=3, stride=2, padding=1, dilation=1, ceil_mode=False)\n",
       "      (layer1): Sequential(\n",
       "        (0): Bottleneck(\n",
       "          (conv1): Conv2d(64, 64, kernel_size=(1, 1), stride=(1, 1), bias=False)\n",
       "          (bn1): FrozenBatchNorm2d(64, eps=0.0)\n",
       "          (conv2): Conv2d(64, 64, kernel_size=(3, 3), stride=(1, 1), padding=(1, 1), bias=False)\n",
       "          (bn2): FrozenBatchNorm2d(64, eps=0.0)\n",
       "          (conv3): Conv2d(64, 256, kernel_size=(1, 1), stride=(1, 1), bias=False)\n",
       "          (bn3): FrozenBatchNorm2d(256, eps=0.0)\n",
       "          (relu): ReLU(inplace=True)\n",
       "          (downsample): Sequential(\n",
       "            (0): Conv2d(64, 256, kernel_size=(1, 1), stride=(1, 1), bias=False)\n",
       "            (1): FrozenBatchNorm2d(256, eps=0.0)\n",
       "          )\n",
       "        )\n",
       "        (1): Bottleneck(\n",
       "          (conv1): Conv2d(256, 64, kernel_size=(1, 1), stride=(1, 1), bias=False)\n",
       "          (bn1): FrozenBatchNorm2d(64, eps=0.0)\n",
       "          (conv2): Conv2d(64, 64, kernel_size=(3, 3), stride=(1, 1), padding=(1, 1), bias=False)\n",
       "          (bn2): FrozenBatchNorm2d(64, eps=0.0)\n",
       "          (conv3): Conv2d(64, 256, kernel_size=(1, 1), stride=(1, 1), bias=False)\n",
       "          (bn3): FrozenBatchNorm2d(256, eps=0.0)\n",
       "          (relu): ReLU(inplace=True)\n",
       "        )\n",
       "        (2): Bottleneck(\n",
       "          (conv1): Conv2d(256, 64, kernel_size=(1, 1), stride=(1, 1), bias=False)\n",
       "          (bn1): FrozenBatchNorm2d(64, eps=0.0)\n",
       "          (conv2): Conv2d(64, 64, kernel_size=(3, 3), stride=(1, 1), padding=(1, 1), bias=False)\n",
       "          (bn2): FrozenBatchNorm2d(64, eps=0.0)\n",
       "          (conv3): Conv2d(64, 256, kernel_size=(1, 1), stride=(1, 1), bias=False)\n",
       "          (bn3): FrozenBatchNorm2d(256, eps=0.0)\n",
       "          (relu): ReLU(inplace=True)\n",
       "        )\n",
       "      )\n",
       "      (layer2): Sequential(\n",
       "        (0): Bottleneck(\n",
       "          (conv1): Conv2d(256, 128, kernel_size=(1, 1), stride=(1, 1), bias=False)\n",
       "          (bn1): FrozenBatchNorm2d(128, eps=0.0)\n",
       "          (conv2): Conv2d(128, 128, kernel_size=(3, 3), stride=(2, 2), padding=(1, 1), bias=False)\n",
       "          (bn2): FrozenBatchNorm2d(128, eps=0.0)\n",
       "          (conv3): Conv2d(128, 512, kernel_size=(1, 1), stride=(1, 1), bias=False)\n",
       "          (bn3): FrozenBatchNorm2d(512, eps=0.0)\n",
       "          (relu): ReLU(inplace=True)\n",
       "          (downsample): Sequential(\n",
       "            (0): Conv2d(256, 512, kernel_size=(1, 1), stride=(2, 2), bias=False)\n",
       "            (1): FrozenBatchNorm2d(512, eps=0.0)\n",
       "          )\n",
       "        )\n",
       "        (1): Bottleneck(\n",
       "          (conv1): Conv2d(512, 128, kernel_size=(1, 1), stride=(1, 1), bias=False)\n",
       "          (bn1): FrozenBatchNorm2d(128, eps=0.0)\n",
       "          (conv2): Conv2d(128, 128, kernel_size=(3, 3), stride=(1, 1), padding=(1, 1), bias=False)\n",
       "          (bn2): FrozenBatchNorm2d(128, eps=0.0)\n",
       "          (conv3): Conv2d(128, 512, kernel_size=(1, 1), stride=(1, 1), bias=False)\n",
       "          (bn3): FrozenBatchNorm2d(512, eps=0.0)\n",
       "          (relu): ReLU(inplace=True)\n",
       "        )\n",
       "        (2): Bottleneck(\n",
       "          (conv1): Conv2d(512, 128, kernel_size=(1, 1), stride=(1, 1), bias=False)\n",
       "          (bn1): FrozenBatchNorm2d(128, eps=0.0)\n",
       "          (conv2): Conv2d(128, 128, kernel_size=(3, 3), stride=(1, 1), padding=(1, 1), bias=False)\n",
       "          (bn2): FrozenBatchNorm2d(128, eps=0.0)\n",
       "          (conv3): Conv2d(128, 512, kernel_size=(1, 1), stride=(1, 1), bias=False)\n",
       "          (bn3): FrozenBatchNorm2d(512, eps=0.0)\n",
       "          (relu): ReLU(inplace=True)\n",
       "        )\n",
       "        (3): Bottleneck(\n",
       "          (conv1): Conv2d(512, 128, kernel_size=(1, 1), stride=(1, 1), bias=False)\n",
       "          (bn1): FrozenBatchNorm2d(128, eps=0.0)\n",
       "          (conv2): Conv2d(128, 128, kernel_size=(3, 3), stride=(1, 1), padding=(1, 1), bias=False)\n",
       "          (bn2): FrozenBatchNorm2d(128, eps=0.0)\n",
       "          (conv3): Conv2d(128, 512, kernel_size=(1, 1), stride=(1, 1), bias=False)\n",
       "          (bn3): FrozenBatchNorm2d(512, eps=0.0)\n",
       "          (relu): ReLU(inplace=True)\n",
       "        )\n",
       "      )\n",
       "      (layer3): Sequential(\n",
       "        (0): Bottleneck(\n",
       "          (conv1): Conv2d(512, 256, kernel_size=(1, 1), stride=(1, 1), bias=False)\n",
       "          (bn1): FrozenBatchNorm2d(256, eps=0.0)\n",
       "          (conv2): Conv2d(256, 256, kernel_size=(3, 3), stride=(2, 2), padding=(1, 1), bias=False)\n",
       "          (bn2): FrozenBatchNorm2d(256, eps=0.0)\n",
       "          (conv3): Conv2d(256, 1024, kernel_size=(1, 1), stride=(1, 1), bias=False)\n",
       "          (bn3): FrozenBatchNorm2d(1024, eps=0.0)\n",
       "          (relu): ReLU(inplace=True)\n",
       "          (downsample): Sequential(\n",
       "            (0): Conv2d(512, 1024, kernel_size=(1, 1), stride=(2, 2), bias=False)\n",
       "            (1): FrozenBatchNorm2d(1024, eps=0.0)\n",
       "          )\n",
       "        )\n",
       "        (1): Bottleneck(\n",
       "          (conv1): Conv2d(1024, 256, kernel_size=(1, 1), stride=(1, 1), bias=False)\n",
       "          (bn1): FrozenBatchNorm2d(256, eps=0.0)\n",
       "          (conv2): Conv2d(256, 256, kernel_size=(3, 3), stride=(1, 1), padding=(1, 1), bias=False)\n",
       "          (bn2): FrozenBatchNorm2d(256, eps=0.0)\n",
       "          (conv3): Conv2d(256, 1024, kernel_size=(1, 1), stride=(1, 1), bias=False)\n",
       "          (bn3): FrozenBatchNorm2d(1024, eps=0.0)\n",
       "          (relu): ReLU(inplace=True)\n",
       "        )\n",
       "        (2): Bottleneck(\n",
       "          (conv1): Conv2d(1024, 256, kernel_size=(1, 1), stride=(1, 1), bias=False)\n",
       "          (bn1): FrozenBatchNorm2d(256, eps=0.0)\n",
       "          (conv2): Conv2d(256, 256, kernel_size=(3, 3), stride=(1, 1), padding=(1, 1), bias=False)\n",
       "          (bn2): FrozenBatchNorm2d(256, eps=0.0)\n",
       "          (conv3): Conv2d(256, 1024, kernel_size=(1, 1), stride=(1, 1), bias=False)\n",
       "          (bn3): FrozenBatchNorm2d(1024, eps=0.0)\n",
       "          (relu): ReLU(inplace=True)\n",
       "        )\n",
       "        (3): Bottleneck(\n",
       "          (conv1): Conv2d(1024, 256, kernel_size=(1, 1), stride=(1, 1), bias=False)\n",
       "          (bn1): FrozenBatchNorm2d(256, eps=0.0)\n",
       "          (conv2): Conv2d(256, 256, kernel_size=(3, 3), stride=(1, 1), padding=(1, 1), bias=False)\n",
       "          (bn2): FrozenBatchNorm2d(256, eps=0.0)\n",
       "          (conv3): Conv2d(256, 1024, kernel_size=(1, 1), stride=(1, 1), bias=False)\n",
       "          (bn3): FrozenBatchNorm2d(1024, eps=0.0)\n",
       "          (relu): ReLU(inplace=True)\n",
       "        )\n",
       "        (4): Bottleneck(\n",
       "          (conv1): Conv2d(1024, 256, kernel_size=(1, 1), stride=(1, 1), bias=False)\n",
       "          (bn1): FrozenBatchNorm2d(256, eps=0.0)\n",
       "          (conv2): Conv2d(256, 256, kernel_size=(3, 3), stride=(1, 1), padding=(1, 1), bias=False)\n",
       "          (bn2): FrozenBatchNorm2d(256, eps=0.0)\n",
       "          (conv3): Conv2d(256, 1024, kernel_size=(1, 1), stride=(1, 1), bias=False)\n",
       "          (bn3): FrozenBatchNorm2d(1024, eps=0.0)\n",
       "          (relu): ReLU(inplace=True)\n",
       "        )\n",
       "        (5): Bottleneck(\n",
       "          (conv1): Conv2d(1024, 256, kernel_size=(1, 1), stride=(1, 1), bias=False)\n",
       "          (bn1): FrozenBatchNorm2d(256, eps=0.0)\n",
       "          (conv2): Conv2d(256, 256, kernel_size=(3, 3), stride=(1, 1), padding=(1, 1), bias=False)\n",
       "          (bn2): FrozenBatchNorm2d(256, eps=0.0)\n",
       "          (conv3): Conv2d(256, 1024, kernel_size=(1, 1), stride=(1, 1), bias=False)\n",
       "          (bn3): FrozenBatchNorm2d(1024, eps=0.0)\n",
       "          (relu): ReLU(inplace=True)\n",
       "        )\n",
       "      )\n",
       "      (layer4): Sequential(\n",
       "        (0): Bottleneck(\n",
       "          (conv1): Conv2d(1024, 512, kernel_size=(1, 1), stride=(1, 1), bias=False)\n",
       "          (bn1): FrozenBatchNorm2d(512, eps=0.0)\n",
       "          (conv2): Conv2d(512, 512, kernel_size=(3, 3), stride=(2, 2), padding=(1, 1), bias=False)\n",
       "          (bn2): FrozenBatchNorm2d(512, eps=0.0)\n",
       "          (conv3): Conv2d(512, 2048, kernel_size=(1, 1), stride=(1, 1), bias=False)\n",
       "          (bn3): FrozenBatchNorm2d(2048, eps=0.0)\n",
       "          (relu): ReLU(inplace=True)\n",
       "          (downsample): Sequential(\n",
       "            (0): Conv2d(1024, 2048, kernel_size=(1, 1), stride=(2, 2), bias=False)\n",
       "            (1): FrozenBatchNorm2d(2048, eps=0.0)\n",
       "          )\n",
       "        )\n",
       "        (1): Bottleneck(\n",
       "          (conv1): Conv2d(2048, 512, kernel_size=(1, 1), stride=(1, 1), bias=False)\n",
       "          (bn1): FrozenBatchNorm2d(512, eps=0.0)\n",
       "          (conv2): Conv2d(512, 512, kernel_size=(3, 3), stride=(1, 1), padding=(1, 1), bias=False)\n",
       "          (bn2): FrozenBatchNorm2d(512, eps=0.0)\n",
       "          (conv3): Conv2d(512, 2048, kernel_size=(1, 1), stride=(1, 1), bias=False)\n",
       "          (bn3): FrozenBatchNorm2d(2048, eps=0.0)\n",
       "          (relu): ReLU(inplace=True)\n",
       "        )\n",
       "        (2): Bottleneck(\n",
       "          (conv1): Conv2d(2048, 512, kernel_size=(1, 1), stride=(1, 1), bias=False)\n",
       "          (bn1): FrozenBatchNorm2d(512, eps=0.0)\n",
       "          (conv2): Conv2d(512, 512, kernel_size=(3, 3), stride=(1, 1), padding=(1, 1), bias=False)\n",
       "          (bn2): FrozenBatchNorm2d(512, eps=0.0)\n",
       "          (conv3): Conv2d(512, 2048, kernel_size=(1, 1), stride=(1, 1), bias=False)\n",
       "          (bn3): FrozenBatchNorm2d(2048, eps=0.0)\n",
       "          (relu): ReLU(inplace=True)\n",
       "        )\n",
       "      )\n",
       "    )\n",
       "    (fpn): FeaturePyramidNetwork(\n",
       "      (inner_blocks): ModuleList(\n",
       "        (0): Conv2dNormActivation(\n",
       "          (0): Conv2d(256, 256, kernel_size=(1, 1), stride=(1, 1))\n",
       "        )\n",
       "        (1): Conv2dNormActivation(\n",
       "          (0): Conv2d(512, 256, kernel_size=(1, 1), stride=(1, 1))\n",
       "        )\n",
       "        (2): Conv2dNormActivation(\n",
       "          (0): Conv2d(1024, 256, kernel_size=(1, 1), stride=(1, 1))\n",
       "        )\n",
       "        (3): Conv2dNormActivation(\n",
       "          (0): Conv2d(2048, 256, kernel_size=(1, 1), stride=(1, 1))\n",
       "        )\n",
       "      )\n",
       "      (layer_blocks): ModuleList(\n",
       "        (0): Conv2dNormActivation(\n",
       "          (0): Conv2d(256, 256, kernel_size=(3, 3), stride=(1, 1), padding=(1, 1))\n",
       "        )\n",
       "        (1): Conv2dNormActivation(\n",
       "          (0): Conv2d(256, 256, kernel_size=(3, 3), stride=(1, 1), padding=(1, 1))\n",
       "        )\n",
       "        (2): Conv2dNormActivation(\n",
       "          (0): Conv2d(256, 256, kernel_size=(3, 3), stride=(1, 1), padding=(1, 1))\n",
       "        )\n",
       "        (3): Conv2dNormActivation(\n",
       "          (0): Conv2d(256, 256, kernel_size=(3, 3), stride=(1, 1), padding=(1, 1))\n",
       "        )\n",
       "      )\n",
       "      (extra_blocks): LastLevelMaxPool()\n",
       "    )\n",
       "  )\n",
       "  (rpn): RegionProposalNetwork(\n",
       "    (anchor_generator): AnchorGenerator()\n",
       "    (head): RPNHead(\n",
       "      (conv): Sequential(\n",
       "        (0): Conv2dNormActivation(\n",
       "          (0): Conv2d(256, 256, kernel_size=(3, 3), stride=(1, 1), padding=(1, 1))\n",
       "          (1): ReLU(inplace=True)\n",
       "        )\n",
       "      )\n",
       "      (cls_logits): Conv2d(256, 3, kernel_size=(1, 1), stride=(1, 1))\n",
       "      (bbox_pred): Conv2d(256, 12, kernel_size=(1, 1), stride=(1, 1))\n",
       "    )\n",
       "  )\n",
       "  (roi_heads): RoIHeads(\n",
       "    (box_roi_pool): MultiScaleRoIAlign(featmap_names=['0', '1', '2', '3'], output_size=(7, 7), sampling_ratio=2)\n",
       "    (box_head): TwoMLPHead(\n",
       "      (fc6): Linear(in_features=12544, out_features=1024, bias=True)\n",
       "      (fc7): Linear(in_features=1024, out_features=1024, bias=True)\n",
       "    )\n",
       "    (box_predictor): FastRCNNPredictor(\n",
       "      (cls_score): Linear(in_features=1024, out_features=91, bias=True)\n",
       "      (bbox_pred): Linear(in_features=1024, out_features=364, bias=True)\n",
       "    )\n",
       "  )\n",
       ")"
      ]
     },
     "execution_count": 8,
     "metadata": {},
     "output_type": "execute_result"
    }
   ],
   "source": [
    "import torchvision\n",
    "from torchvision.models.detection import FasterRCNN_ResNet50_FPN_Weights\n",
    "\n",
    "# Load the model with pretrained weights\n",
    "model_ = torchvision.models.detection.fasterrcnn_resnet50_fpn(weights=FasterRCNN_ResNet50_FPN_Weights.COCO_V1)\n",
    "\n",
    "model_.eval()  # Put the model in evaluation mode\n"
   ]
  },
  {
   "cell_type": "code",
   "execution_count": 9,
   "id": "90da8203",
   "metadata": {},
   "outputs": [],
   "source": [
    "def model(x):\n",
    "    with torch.no_grad():\n",
    "        yhat = model_(x)\n",
    "    return yhat"
   ]
  },
  {
   "cell_type": "markdown",
   "id": "63ddfc2d",
   "metadata": {},
   "source": [
    "91 Classes:"
   ]
  },
  {
   "cell_type": "code",
   "execution_count": 10,
   "id": "563ca511",
   "metadata": {},
   "outputs": [
    {
     "data": {
      "text/plain": [
       "91"
      ]
     },
     "execution_count": 10,
     "metadata": {},
     "output_type": "execute_result"
    }
   ],
   "source": [
    "COCO_INSTANCE_CATEGORY_NAMES = [ '__background__', 'person', 'bicycle', 'car', 'motorcycle', 'airplane', 'bus',\n",
    "    'train', 'truck', 'boat', 'traffic light', 'fire hydrant', 'N/A', 'stop sign',\n",
    "    'parking meter', 'bench', 'bird', 'cat', 'dog', 'horse', 'sheep', 'cow',\n",
    "    'elephant', 'bear', 'zebra', 'giraffe', 'N/A', 'backpack', 'umbrella', 'N/A', 'N/A',\n",
    "    'handbag', 'tie', 'suitcase', 'frisbee', 'skis', 'snowboard', 'sports ball',\n",
    "    'kite', 'baseball bat', 'baseball glove', 'skateboard', 'surfboard', 'tennis racket',\n",
    "    'bottle', 'N/A', 'wine glass', 'cup', 'fork', 'knife', 'spoon', 'bowl',\n",
    "    'banana', 'apple', 'sandwich', 'orange', 'broccoli', 'carrot', 'hot dog', 'pizza',\n",
    "    'donut', 'cake', 'chair', 'couch', 'potted plant', 'bed', 'N/A', 'dining table',\n",
    "    'N/A', 'N/A', 'toilet', 'N/A', 'tv', 'laptop', 'mouse', 'remote', 'keyboard', 'cell phone',\n",
    "    'microwave', 'oven', 'toaster', 'sink', 'refrigerator', 'N/A', 'book',\n",
    "    'clock', 'vase', 'scissors', 'teddy bear', 'hair drier', 'toothbrush']\n",
    "len(COCO_INSTANCE_CATEGORY_NAMES)"
   ]
  },
  {
   "cell_type": "markdown",
   "id": "5b27a9a2",
   "metadata": {},
   "source": [
    "*Object Localization*"
   ]
  },
  {
   "cell_type": "markdown",
   "id": "d07d71da",
   "metadata": {},
   "source": [
    "In object localization we locate the presence of objects in an image and indicate there location with a bounding box."
   ]
  },
  {
   "cell_type": "code",
   "execution_count": 11,
   "id": "b55a6f07",
   "metadata": {},
   "outputs": [
    {
     "data": {
      "image/png": "[encoded data removed]",
      "text/plain": [
       "<Figure size 432x288 with 1 Axes>"
      ]
     },
     "metadata": {
      "needs_background": "light"
     },
     "output_type": "display_data"
    }
   ],
   "source": [
    "img_path='istockphoto-187786732-612x612.jpeg'\n",
    "half=0.5\n",
    "image=Image.open(img_path)\n",
    "\n",
    "image.resize([int(half*s)for s in image.size])\n",
    "\n",
    "plt.imshow(image)\n",
    "plt.show()"
   ]
  },
  {
   "cell_type": "code",
   "execution_count": 12,
   "id": "f664b119",
   "metadata": {},
   "outputs": [],
   "source": [
    "#Transform object to convert image to tensor:\n",
    "transform = transforms.Compose([transforms.ToTensor()])"
   ]
  },
  {
   "cell_type": "code",
   "execution_count": 13,
   "id": "f4e61549",
   "metadata": {},
   "outputs": [],
   "source": [
    "img = transform(image)"
   ]
  },
  {
   "cell_type": "code",
   "execution_count": 14,
   "id": "efe6e0af",
   "metadata": {},
   "outputs": [],
   "source": [
    "#Prediction\n",
    "pred = model([img])"
   ]
  },
  {
   "cell_type": "code",
   "execution_count": 15,
   "id": "759b20d7",
   "metadata": {},
   "outputs": [
    {
     "data": {
      "text/plain": [
       "tensor([16, 17, 18, 16, 17, 18, 15, 17, 63, 17, 18, 18, 17])"
      ]
     },
     "execution_count": 15,
     "metadata": {},
     "output_type": "execute_result"
    }
   ],
   "source": [
    "pred[0]['labels']"
   ]
  },
  {
   "cell_type": "code",
   "execution_count": 16,
   "id": "0860c224",
   "metadata": {},
   "outputs": [
    {
     "data": {
      "text/plain": [
       "tensor([0.9976, 0.9974, 0.9929, 0.9781, 0.7116, 0.4929, 0.1863, 0.0813, 0.0793,\n",
       "        0.0676, 0.0667, 0.0618, 0.0617])"
      ]
     },
     "execution_count": 16,
     "metadata": {},
     "output_type": "execute_result"
    }
   ],
   "source": [
    "pred[0]['scores']"
   ]
  },
  {
   "cell_type": "code",
   "execution_count": 17,
   "id": "cb927346",
   "metadata": {},
   "outputs": [
    {
     "data": {
      "text/plain": [
       "'bird'"
      ]
     },
     "execution_count": 17,
     "metadata": {},
     "output_type": "execute_result"
    }
   ],
   "source": [
    "#The class number corresponds to the index of the list with the corresponding category name.\n",
    "index=pred[0]['labels'][0].item()\n",
    "COCO_INSTANCE_CATEGORY_NAMES[index]"
   ]
  },
  {
   "cell_type": "code",
   "execution_count": 18,
   "id": "601abac6",
   "metadata": {},
   "outputs": [
    {
     "data": {
      "text/plain": [
       "[396.1119079589844, 40.974849700927734, 500.2917175292969, 147.1243896484375]"
      ]
     },
     "execution_count": 18,
     "metadata": {},
     "output_type": "execute_result"
    }
   ],
   "source": [
    "#Coordinates for the bounding box\n",
    "bounding_box=pred[0]['boxes'][0].tolist()\n",
    "bounding_box"
   ]
  },
  {
   "cell_type": "code",
   "execution_count": 19,
   "id": "8d8a09b7",
   "metadata": {},
   "outputs": [],
   "source": [
    "#Box: top(t), left(l), bottom(b), right(r)\n",
    "t,l,b,r=[round(x) for x in bounding_box]"
   ]
  },
  {
   "cell_type": "markdown",
   "id": "e00dd522",
   "metadata": {},
   "source": [
    "Now we convert the tensor to an openCV array and plot an image with the box:\n"
   ]
  },
  {
   "cell_type": "code",
   "execution_count": 20,
   "id": "5c9ddcca",
   "metadata": {},
   "outputs": [],
   "source": [
    "if isinstance(img, torch.Tensor):\n",
    "    img = img.cpu().detach().numpy()  # Convert PyTorch tensor to NumPy\n"
   ]
  },
  {
   "cell_type": "code",
   "execution_count": 21,
   "id": "961babdb",
   "metadata": {},
   "outputs": [
    {
     "name": "stdout",
     "output_type": "stream",
     "text": [
      "Shape of img before processing: (3, 447, 612)\n"
     ]
    }
   ],
   "source": [
    "print(\"Shape of img before processing:\", img.shape)\n"
   ]
  },
  {
   "cell_type": "markdown",
   "id": "20e27a03",
   "metadata": {},
   "source": [
    "img_plot = (np.clip(cv2.cvtColor(np.clip(img.transpose((1, 2, 0)), 0, 1), cv2.COLOR_RGB2BGR) * 255, 0, 255)).astype(np.uint8)\n",
    "\n",
    "#img = (np.clip(cv2.cvtColor(np.clip(img.numpy().transpose((1, 2, 0)), 0, 1), cv2.COLOR_RGB2BGR) * 255, 0, 255)).astype(np.uint8)\n",
    "cv2.rectangle(img_plot, (t,l), (b,r), (0,0,255),10)\n",
    "print(\"Shape of img before processing:\", img.shape)\n",
    "plt.imshow(cv2.cvtColor(img_plot, cv2.COLOR_BGR2RGB))\n",
    "plt.show()\n",
    "del img_plt, t, l, r, b"
   ]
  },
  {
   "cell_type": "code",
   "execution_count": 22,
   "id": "d8717cf2",
   "metadata": {},
   "outputs": [
    {
     "name": "stdout",
     "output_type": "stream",
     "text": [
      "t: 396, l: 41, b: 500, r: 147\n"
     ]
    }
   ],
   "source": [
    "print(f\"t: {t}, l: {l}, b: {b}, r: {r}\")\n"
   ]
  },
  {
   "cell_type": "code",
   "execution_count": 23,
   "id": "96cfd30b",
   "metadata": {},
   "outputs": [],
   "source": [
    "#cv2.rectangle(img, (l, t), (r, b), (0, 0, 255), 10)\n"
   ]
  },
  {
   "cell_type": "code",
   "execution_count": 24,
   "id": "b259e1c0",
   "metadata": {},
   "outputs": [],
   "source": [
    "if img.shape[0] in [1, 3]:  # Check if it's (C, H, W)\n",
    "    img= img.transpose((1, 2, 0))  # Convert to (H, W, C)\n"
   ]
  },
  {
   "cell_type": "markdown",
   "id": "bb8d206f",
   "metadata": {},
   "source": [
    "img_plot = np.clip(img*255, 0,255).astype(np.uint8)\n",
    "print(\"Final img_plot dtype: \", img_plot.dtype)\n",
    "print(\"Final img_plot shape: \", img_plot.shape)\n",
    "cv2.rectangle(img_plot, (l,t),(r,b), (0,0,255), 10)\n",
    "plt.imshow(cv2.cvtColor(img_plot, cv2.COLOR_BGR2RGB))\n",
    "plt.show()\n",
    "del img_plot, t,l,b,r"
   ]
  },
  {
   "cell_type": "code",
   "execution_count": 25,
   "id": "f1eed81e",
   "metadata": {},
   "outputs": [
    {
     "name": "stdout",
     "output_type": "stream",
     "text": [
      "Final img_plot dtype: uint8\n",
      "Final img_plot shape: (447, 612, 3)\n"
     ]
    },
    {
     "data": {
      "image/png": "[encoded data removed]",
      "text/plain": [
       "<Figure size 432x288 with 1 Axes>"
      ]
     },
     "metadata": {
      "needs_background": "light"
     },
     "output_type": "display_data"
    }
   ],
   "source": [
    "# Ensure that img_plot is a proper 3-channel image (H, W, 3) and of type uint8\n",
    "img_plot = np.clip(img * 255, 0, 255).astype(np.uint8)\n",
    "\n",
    "# Ensure img_plot is contiguous in memory\n",
    "img_plot = img_plot.copy()\n",
    "\n",
    "# Debugging prints\n",
    "print(\"Final img_plot dtype:\", img_plot.dtype)\n",
    "print(\"Final img_plot shape:\", img_plot.shape)\n",
    "\n",
    "# Draw the rectangle\n",
    "cv2.rectangle(img_plot, (l, t), (r, b), (0, 0, 255), 10)\n",
    "\n",
    "# Show the image with the bounding box\n",
    "plt.imshow(cv2.cvtColor(img_plot, cv2.COLOR_BGR2RGB))\n",
    "plt.show()\n",
    "\n",
    "# Clean up memory (optional)\n",
    "del img_plot, t, l, b, r\n"
   ]
  }
 ],
 "metadata": {
  "kernelspec": {
   "display_name": "Python 3 (ipykernel)",
   "language": "python",
   "name": "python3"
  },
  "language_info": {
   "codemirror_mode": {
    "name": "ipython",
    "version": 3
   },
   "file_extension": ".py",
   "mimetype": "text/x-python",
   "name": "python",
   "nbconvert_exporter": "python",
   "pygments_lexer": "ipython3",
   "version": "3.9.7"
  }
 },
 "nbformat": 4,
 "nbformat_minor": 5
}
