{
 "cells": [
  {
   "cell_type": "code",
   "execution_count": 1,
   "id": "c1d794a7",
   "metadata": {},
   "outputs": [],
   "source": [
    "import cv2 as cv\n",
    "import numpy as np\n",
    "import random"
   ]
  },
  {
   "cell_type": "code",
   "execution_count": 2,
   "id": "22cf5e55",
   "metadata": {},
   "outputs": [],
   "source": [
    "img = cv.imread('C:/Users/tripa/OpenCV/assets/Self.jpeg', -1)"
   ]
  },
  {
   "cell_type": "code",
   "execution_count": 3,
   "id": "25bc1a81",
   "metadata": {},
   "outputs": [],
   "source": [
    "img = cv.resize(img, (0,0), fx=0.5, fy=0.5) #resize"
   ]
  },
  {
   "cell_type": "code",
   "execution_count": 4,
   "id": "1db1268f",
   "metadata": {},
   "outputs": [
    {
     "name": "stdout",
     "output_type": "stream",
     "text": [
      "<class 'numpy.ndarray'>\n"
     ]
    }
   ],
   "source": [
    "print(type(img))"
   ]
  },
  {
   "cell_type": "code",
   "execution_count": 5,
   "id": "34f44ed1",
   "metadata": {},
   "outputs": [
    {
     "name": "stdout",
     "output_type": "stream",
     "text": [
      "(694, 553, 3)\n"
     ]
    }
   ],
   "source": [
    "print(img.shape) #blue green red [0, 0, 0] o - 255"
   ]
  },
  {
   "cell_type": "code",
   "execution_count": 6,
   "id": "92db4aab",
   "metadata": {},
   "outputs": [
    {
     "name": "stdout",
     "output_type": "stream",
     "text": [
      "[[191 207 213]\n",
      " [191 207 213]\n",
      " [191 207 213]\n",
      " ...\n",
      " [186 194 193]\n",
      " [184 192 191]\n",
      " [191 199 198]]\n"
     ]
    }
   ],
   "source": [
    "print(img[0]) #Shows the first row"
   ]
  },
  {
   "cell_type": "code",
   "execution_count": 7,
   "id": "7e1dc7f8",
   "metadata": {},
   "outputs": [
    {
     "name": "stdout",
     "output_type": "stream",
     "text": [
      "[[190 206 212]\n",
      " [190 206 212]\n",
      " [190 206 212]\n",
      " ...\n",
      " [ 13  10  19]\n",
      " [ 13  10  19]\n",
      " [ 13  10  19]]\n"
     ]
    }
   ],
   "source": [
    "print(img[257][45:400]) #pixels between 45 and 400"
   ]
  },
  {
   "cell_type": "markdown",
   "id": "b4787fe8",
   "metadata": {},
   "source": [
    "How to change Pixle color"
   ]
  },
  {
   "cell_type": "code",
   "execution_count": 8,
   "id": "4fac85de",
   "metadata": {},
   "outputs": [],
   "source": [
    "for i in range(200):#First 200 rows\n",
    "    for j in range(img.shape[1]): #To modify the entire column in 200 rows\n",
    "        img[i][j] = [random.randint(0,255), random.randint(0, 255), random.randint(0, 255)]"
   ]
  },
  {
   "cell_type": "code",
   "execution_count": 9,
   "id": "643d8ea5",
   "metadata": {},
   "outputs": [],
   "source": [
    "cv.imshow('Image', img)\n",
    "cv.waitKey(0)\n",
    "cv.destroyAllWindows()"
   ]
  },
  {
   "cell_type": "markdown",
   "id": "b14a3f07",
   "metadata": {},
   "source": [
    "Coppy one part of the image to another part"
   ]
  },
  {
   "cell_type": "code",
   "execution_count": 10,
   "id": "90aa7c17",
   "metadata": {},
   "outputs": [],
   "source": [
    "img = cv.imread('C:/Users/tripa/OpenCV/assets/Self.jpeg', -1)"
   ]
  },
  {
   "cell_type": "code",
   "execution_count": 11,
   "id": "5faeeab0",
   "metadata": {},
   "outputs": [],
   "source": [
    "Nose_Part = img[650:750, 550:650]\n",
    "img[100:200, 550:650] = Nose_Part"
   ]
  },
  {
   "cell_type": "code",
   "execution_count": 12,
   "id": "ce7a6d38",
   "metadata": {},
   "outputs": [],
   "source": [
    "cv.imshow('Image', img)\n",
    "cv.waitKey(0)\n",
    "cv.destroyAllWindows()"
   ]
  },
  {
   "cell_type": "code",
   "execution_count": null,
   "id": "88c8d938",
   "metadata": {},
   "outputs": [],
   "source": []
  },
  {
   "cell_type": "code",
   "execution_count": null,
   "id": "72965177",
   "metadata": {},
   "outputs": [],
   "source": []
  }
 ],
 "metadata": {
  "kernelspec": {
   "display_name": "Python 3 (ipykernel)",
   "language": "python",
   "name": "python3"
  },
  "language_info": {
   "codemirror_mode": {
    "name": "ipython",
    "version": 3
   },
   "file_extension": ".py",
   "mimetype": "text/x-python",
   "name": "python",
   "nbconvert_exporter": "python",
   "pygments_lexer": "ipython3",
   "version": "3.9.7"
  }
 },
 "nbformat": 4,
 "nbformat_minor": 5
}
