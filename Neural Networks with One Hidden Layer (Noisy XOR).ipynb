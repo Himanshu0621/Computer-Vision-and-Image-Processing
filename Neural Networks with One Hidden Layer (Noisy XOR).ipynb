{
 "cells": [
  {
   "cell_type": "markdown",
   "id": "6d47f46e",
   "metadata": {},
   "source": [
    "**Practice: Neural Networks with One Hidden Layer: Noisy XOR**"
   ]
  },
  {
   "cell_type": "markdown",
   "id": "9a8bdfb1",
   "metadata": {},
   "source": [
    "Objective: Create a neural network model with multiple neurons to model a simple function."
   ]
  },
  {
   "cell_type": "markdown",
   "id": "954002d1",
   "metadata": {},
   "source": [
    "<h2>Table of Contents</h2>\n",
    "<p>In this lab, you will see how many neurons it takes to classify noisy XOR data with one hidden layer neural network.</p>\n",
    "\n",
    "<ul>\n",
    "    <li><a href=\"#Model\">Neural Network Module and Training Function</a></li>\n",
    "    <li><a href=\"#Makeup_Data\">Make Some Data</a></li>\n",
    "    <li><a href=\"#One\">One Neuron</a></li>\n",
    "    <li><a href=\"#Two\">Two Neurons</a></li>\n",
    "    <li><a href=\"#Three\">Three Neurons</a></li>\n",
    "</ul>\n"
   ]
  },
  {
   "cell_type": "markdown",
   "id": "c2a04303",
   "metadata": {},
   "source": [
    "**Libraries**"
   ]
  },
  {
   "cell_type": "code",
   "execution_count": 1,
   "id": "cae40ee1",
   "metadata": {},
   "outputs": [
    {
     "name": "stdout",
     "output_type": "stream",
     "text": [
      "Requirement already satisfied: torch in c:\\users\\tripa\\anaconda3\\lib\\site-packages (1.13.1)\n",
      "Requirement already satisfied: torchvision in c:\\users\\tripa\\anaconda3\\lib\\site-packages (0.14.1)\n",
      "Requirement already satisfied: torchaudio in c:\\users\\tripa\\anaconda3\\lib\\site-packages (0.13.1)\n",
      "Requirement already satisfied: typing_extensions in c:\\users\\tripa\\anaconda3\\lib\\site-packages (from torch) (4.7.1)\n",
      "Requirement already satisfied: numpy in c:\\users\\tripa\\anaconda3\\lib\\site-packages (from torchvision) (1.20.3)\n",
      "Requirement already satisfied: requests in c:\\users\\tripa\\anaconda3\\lib\\site-packages (from torchvision) (2.32.2)\n",
      "Requirement already satisfied: pillow!=8.3.*,>=5.3.0 in c:\\users\\tripa\\anaconda3\\lib\\site-packages (from torchvision) (8.4.0)\n",
      "Requirement already satisfied: idna<4,>=2.5 in c:\\users\\tripa\\anaconda3\\lib\\site-packages (from requests->torchvision) (3.2)\n",
      "Requirement already satisfied: urllib3<3,>=1.21.1 in c:\\users\\tripa\\anaconda3\\lib\\site-packages (from requests->torchvision) (2.3.0)\n",
      "Requirement already satisfied: charset-normalizer<4,>=2 in c:\\users\\tripa\\anaconda3\\lib\\site-packages (from requests->torchvision) (2.0.4)\n",
      "Requirement already satisfied: certifi>=2017.4.17 in c:\\users\\tripa\\anaconda3\\lib\\site-packages (from requests->torchvision) (2021.10.8)\n"
     ]
    }
   ],
   "source": [
    "!pip3 install torch torchvision torchaudio"
   ]
  },
  {
   "cell_type": "code",
   "execution_count": 2,
   "id": "aaeb034b",
   "metadata": {},
   "outputs": [],
   "source": [
    "import numpy as np\n",
    "import torch\n",
    "import torch.nn as nn\n",
    "#To use activation functions\n",
    "import torch.nn.functional as F\n",
    "import matplotlib.pyplot as plt\n",
    "from matplotlib.colors import ListedColormap\n",
    "#Create the dataset and perform mini-batch\n",
    "from torch.utils.data import Dataset, DataLoader"
   ]
  },
  {
   "cell_type": "markdown",
   "id": "863e1741",
   "metadata": {},
   "source": [
    "Use the following function to plot the data:"
   ]
  },
  {
   "cell_type": "code",
   "execution_count": 3,
   "id": "e376397a",
   "metadata": {},
   "outputs": [],
   "source": [
    "def plot_decision_regions_2class(model, data_set):\n",
    "    cmap_light = ListedColormap(['#FFAAAA', '#AAFFAA', '#00AAFF'])\n",
    "    cmap_bold = ListedColormap(['#FF0000', '#00FF00', '#00AAFF'])\n",
    "    x = data_set.x.numpy()\n",
    "    y = data_set.y.numpy()\n",
    "    h=0.2\n",
    "    #The code finds the smallest and largest values in each feature (column) of X and slightly expands the range by 0.1 on both ends. This ensures the plot covers all data points with some extra space for better visualization.\n",
    "    x_min, x_max = x[:, 0].min()-0.1, x[:, 0].max()+0.1\n",
    "    y_min, y_max = x[:, 1].min()-0.1, x[:, 0].max()+0.1\n",
    "    xx, yy  = np.meshgrid(np.arange(x_min, x_max, h), np.arange(y_min, y_max, h))\n",
    "    XX = torch.Tensor(np.c_[xx.ravel(), yy.ravel()])\n",
    "    \n",
    "    yhat = np.logical_not((model(XX)[:, 0]>0.5).numpy()).reshape(xx.shape)\n",
    "    plt.pcolormesh(xx, yy, yhat, cmap=cmap_light, shading='auto')\n",
    "    plt.plot(x[y[:, 0]==0, 0], x[y[:, 0]==0, 1], 'o', label='y=0')\n",
    "    plt.plot(x[y[:, 0]==1, 0], x[y[:, 0]==1, 1], 'ro', label='y=1')\n",
    "    plt.title(\"decision region\")\n",
    "    plt.legend()"
   ]
  },
  {
   "cell_type": "markdown",
   "id": "286c4f8b",
   "metadata": {},
   "source": [
    "Use the following function to calculate accuracy:"
   ]
  },
  {
   "cell_type": "code",
   "execution_count": 4,
   "id": "3fabf66b",
   "metadata": {},
   "outputs": [],
   "source": [
    "def accuracy(model, data_set):\n",
    "    return np.mean(data_set.y.view(-1).numpy() == (model(data_set.x)[:, 0]>0.5).numpy())"
   ]
  },
  {
   "cell_type": "markdown",
   "id": "330feca1",
   "metadata": {},
   "source": [
    "**Neural Network Module and Training Function**"
   ]
  },
  {
   "cell_type": "markdown",
   "id": "06abcc1b",
   "metadata": {},
   "source": [
    "Defining Neural Network module or class:"
   ]
  },
  {
   "cell_type": "code",
   "execution_count": 5,
   "id": "e47cdf4c",
   "metadata": {},
   "outputs": [],
   "source": [
    "#Defining the class net with one hidden layer\n",
    "class Net(nn.Module):\n",
    "    #Constructor\n",
    "    def __init__(self, D_in, H, D_out):\n",
    "        super(Net, self).__init__()\n",
    "        #D_in, size of the first input layer\n",
    "        #H, out put of first layer, input of second layer(size of hidden layer)\n",
    "        #D_out, output size of the second layer\n",
    "        self.linear1 = nn.Linear(D_in, H)\n",
    "        self.linear2 = nn.Linear(H, D_out)\n",
    "        \n",
    "    #Prediction\n",
    "    def forward(self,x):\n",
    "        #Puting x through first layer and then sigmoid function\n",
    "        x = torch.sigmoid(self.linear1(x))\n",
    "        #again, put result of first layer \n",
    "        x = torch.sigmoid(self.linear2(x))\n",
    "        return x\n",
    "        "
   ]
  },
  {
   "cell_type": "markdown",
   "id": "83c66308",
   "metadata": {},
   "source": [
    "Defining functions to train the model:"
   ]
  },
  {
   "cell_type": "code",
   "execution_count": 6,
   "id": "a7d94b0d",
   "metadata": {},
   "outputs": [],
   "source": [
    "def train(data_set, model, criterion, train_loader, optimizer, epochs=5):\n",
    "    cost = []\n",
    "    Accuracy = []\n",
    "    #Number of time we train on the entire dataset\n",
    "    for epoch in range(epochs):\n",
    "        #total loss over epoch\n",
    "        total=0\n",
    "        #For batch in train loader\n",
    "        for x, y in train_loader:\n",
    "            optimizer.zero_grad()\n",
    "            yhat = model(x)\n",
    "            loss = criterion(yhat, y)\n",
    "            loss.backward()\n",
    "            optimizer.step()\n",
    "            total += loss.item()\n",
    "            \n",
    "        Accuracy.append(accuracy(model, data_set))\n",
    "        cost.append(total)\n",
    "        \n",
    "    #Cost vs epochs graph\n",
    "    fig, ax1 = plt.subplots()\n",
    "    color = 'tab:red'\n",
    "    ax1.plot(cost, color=color)\n",
    "    ax1.set_xlabel('epoch', color=color)\n",
    "    ax1.set_ylabel('total_loss', color=color)\n",
    "    ax1.tick_params(axis='y', color=color)\n",
    "    \n",
    "    #Accuracy vs Epoch graph\n",
    "    ax2 = ax1.twinx()\n",
    "    color = 'tab:blue'\n",
    "    ax2.set_ylabel('accuracy', color=color)\n",
    "    ax2.plot(Accuracy, color=color)\n",
    "    ax2.tick_params(axis='y', color=color)\n",
    "    fig.tight_layout()\n",
    "    \n",
    "    plt.show()\n",
    "    return cost    "
   ]
  },
  {
   "cell_type": "markdown",
   "id": "0a83afe7",
   "metadata": {},
   "source": [
    "**Creating Data**"
   ]
  },
  {
   "cell_type": "markdown",
   "id": "8f486219",
   "metadata": {},
   "source": [
    "Dataset class:"
   ]
  },
  {
   "cell_type": "code",
   "execution_count": 7,
   "id": "595ecd06",
   "metadata": {},
   "outputs": [],
   "source": [
    "#Definr the class XOR_Data\n",
    "\n",
    "class XOR_Data(Dataset):\n",
    "    #Constrocter\n",
    "    #N_s is the size of the dataset\n",
    "    def __init__ (self, N_s = 100):\n",
    "        self.x = torch.zeros((N_s, 2)) #2 Dimensional array for features\n",
    "        self.y = torch.zeros((N_s, 1)) #1 Dimensional array for class\n",
    "        for i in range(N_s//4):\n",
    "            #Create data centered arround (0,0) of class 0\n",
    "            self.x[i, :] = torch.Tensor([0.0,0.0])\n",
    "            self.y[i: 0] = torch.Tensor([0.0])\n",
    "            \n",
    "            #Create data centered around (0,1) for class 1\n",
    "            self.x[i+N_s//4,:] = torch.Tensor([0.0,1.0])\n",
    "            self.y[i+N_s//4,0] = torch.Tensor([1.0])\n",
    "            \n",
    "            #Create data centered around (1,0) of class 1\n",
    "            self.x[i+N_s//2,:] = torch.Tensor([1.0,0.0])\n",
    "            self.y[i+N_s//2,0] = torch.Tensor([1.0])\n",
    "                   \n",
    "            #Create data centered around (1,1) of class 0\n",
    "            self.x[i+3*N_s//4, :] = torch.Tensor([1.0,1.0])\n",
    "            self.y[i+3*N_s//4, 0]= torch.Tensor([0.0])\n",
    "            \n",
    "            #Add some noise to the x values to make them different\n",
    "            self.x = self.x+0.01*torch.randn((N_s, 2))\n",
    "        self.len = N_s\n",
    "        \n",
    "    def __getitem__(self, index):\n",
    "        return self.x[index],self.y[index]\n",
    "    \n",
    "    def __len__(self):\n",
    "        return self.len\n",
    "    \n",
    "    def plot_stuff(self):\n",
    "        plt.plot(self.x[self.y[:,0]==0, 0].numpy(), self.x[self.y[:,0]==0, 1].numpy(), 'o', label=\"y=0\")\n",
    "        plt.plot(self.x[self.y[:,0]==1, 0].numpy(), self.x[self.y[:,0]==0, 1].numpy(), 'ro', label=\"y=1\")\n",
    "        plt.legend()\n",
    "    \n",
    "    "
   ]
  },
  {
   "cell_type": "code",
   "execution_count": 8,
   "id": "41f9fb27",
   "metadata": {},
   "outputs": [
    {
     "data": {
      "image/png": "[encoded data removed]",
      "text/plain": [
       "<Figure size 432x288 with 1 Axes>"
      ]
     },
     "metadata": {
      "needs_background": "light"
     },
     "output_type": "display_data"
    }
   ],
   "source": [
    "#Dataset object\n",
    "data_set =XOR_Data()\n",
    "data_set.plot_stuff()"
   ]
  },
  {
   "cell_type": "markdown",
   "id": "7511475c",
   "metadata": {},
   "source": [
    "**One Neuron**"
   ]
  },
  {
   "cell_type": "markdown",
   "id": "c40b4638",
   "metadata": {},
   "source": [
    "Creating a neural network 'model' with one neuron in the hidden layer."
   ]
  },
  {
   "cell_type": "code",
   "execution_count": 9,
   "id": "2c7a5ae5",
   "metadata": {},
   "outputs": [
    {
     "name": "stdout",
     "output_type": "stream",
     "text": [
      "Net(\n",
      "  (linear1): Linear(in_features=2, out_features=1, bias=True)\n",
      "  (linear2): Linear(in_features=1, out_features=1, bias=True)\n",
      ")\n"
     ]
    }
   ],
   "source": [
    "model = Net(2,1,1)\n",
    "print(model)"
   ]
  },
  {
   "cell_type": "code",
   "execution_count": 10,
   "id": "2e264f23",
   "metadata": {},
   "outputs": [
    {
     "data": {
      "image/png": "[encoded data removed]",
      "text/plain": [
       "<Figure size 432x288 with 2 Axes>"
      ]
     },
     "metadata": {
      "needs_background": "light"
     },
     "output_type": "display_data"
    },
    {
     "data": {
      "image/png": "[encoded data removed]",
      "text/plain": [
       "<Figure size 432x288 with 1 Axes>"
      ]
     },
     "metadata": {
      "needs_background": "light"
     },
     "output_type": "display_data"
    }
   ],
   "source": [
    "#Train the model\n",
    "\n",
    "learning_rate = 0.1\n",
    "criterion = nn.BCELoss()\n",
    "optimizer = torch.optim.SGD(model.parameters(), lr=learning_rate)\n",
    "train_loader = DataLoader(dataset=data_set, batch_size=1)\n",
    "loss12 = train(data_set, model, criterion, train_loader, optimizer, epochs=500)\n",
    "#Plot the data with decision boundaries\n",
    "plot_decision_regions_2class(model, data_set)"
   ]
  },
  {
   "cell_type": "markdown",
   "id": "2af3d46a",
   "metadata": {},
   "source": [
    "**Three Neurons**"
   ]
  },
  {
   "cell_type": "code",
   "execution_count": 11,
   "id": "a725959e",
   "metadata": {},
   "outputs": [
    {
     "name": "stdout",
     "output_type": "stream",
     "text": [
      "Net(\n",
      "  (linear1): Linear(in_features=2, out_features=3, bias=True)\n",
      "  (linear2): Linear(in_features=3, out_features=1, bias=True)\n",
      ")\n"
     ]
    }
   ],
   "source": [
    "model = Net(2,3,1)\n",
    "print(model)"
   ]
  },
  {
   "cell_type": "code",
   "execution_count": 12,
   "id": "53bd542a",
   "metadata": {},
   "outputs": [
    {
     "data": {
      "image/png": "[encoded data removed]",
      "text/plain": [
       "<Figure size 432x288 with 2 Axes>"
      ]
     },
     "metadata": {
      "needs_background": "light"
     },
     "output_type": "display_data"
    },
    {
     "data": {
      "image/png": "[encoded data removed]",
      "text/plain": [
       "<Figure size 432x288 with 1 Axes>"
      ]
     },
     "metadata": {
      "needs_background": "light"
     },
     "output_type": "display_data"
    }
   ],
   "source": [
    "#Train the model\n",
    "\n",
    "learning_rate = 0.1\n",
    "criterion = nn.BCELoss()\n",
    "optimizer = torch.optim.SGD(model.parameters(), lr=learning_rate)\n",
    "train_loader = DataLoader(dataset=data_set, batch_size=1)\n",
    "loss12 = train(data_set, model, criterion, train_loader, optimizer, epochs=500)\n",
    "#Plot the data with decision boundaries\n",
    "plot_decision_regions_2class(model, data_set)"
   ]
  },
  {
   "cell_type": "code",
   "execution_count": 13,
   "id": "c62ccf4d",
   "metadata": {},
   "outputs": [
    {
     "name": "stdout",
     "output_type": "stream",
     "text": [
      "Net(\n",
      "  (linear1): Linear(in_features=2, out_features=4, bias=True)\n",
      "  (linear2): Linear(in_features=4, out_features=1, bias=True)\n",
      ")\n"
     ]
    }
   ],
   "source": [
    "model = Net(2,4,1)\n",
    "print(model)"
   ]
  },
  {
   "cell_type": "code",
   "execution_count": 14,
   "id": "d69c8193",
   "metadata": {},
   "outputs": [
    {
     "data": {
      "image/png": "[encoded data removed]",
      "text/plain": [
       "<Figure size 432x288 with 2 Axes>"
      ]
     },
     "metadata": {
      "needs_background": "light"
     },
     "output_type": "display_data"
    },
    {
     "data": {
      "image/png": "[encoded data removed]",
      "text/plain": [
       "<Figure size 432x288 with 1 Axes>"
      ]
     },
     "metadata": {
      "needs_background": "light"
     },
     "output_type": "display_data"
    }
   ],
   "source": [
    "#Train the model\n",
    "\n",
    "learning_rate = 0.1\n",
    "criterion = nn.BCELoss()\n",
    "optimizer = torch.optim.SGD(model.parameters(), lr=learning_rate)\n",
    "train_loader = DataLoader(dataset=data_set, batch_size=1)\n",
    "loss12 = train(data_set, model, criterion, train_loader, optimizer, epochs=500)\n",
    "#Plot the data with decision boundaries\n",
    "plot_decision_regions_2class(model, data_set)"
   ]
  }
 ],
 "metadata": {
  "kernelspec": {
   "display_name": "Python 3 (ipykernel)",
   "language": "python",
   "name": "python3"
  },
  "language_info": {
   "codemirror_mode": {
    "name": "ipython",
    "version": 3
   },
   "file_extension": ".py",
   "mimetype": "text/x-python",
   "name": "python",
   "nbconvert_exporter": "python",
   "pygments_lexer": "ipython3",
   "version": "3.9.7"
  }
 },
 "nbformat": 4,
 "nbformat_minor": 5
}
